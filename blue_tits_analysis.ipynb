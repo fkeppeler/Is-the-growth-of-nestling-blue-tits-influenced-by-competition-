{
 "cells": [
  {
   "cell_type": "markdown",
   "metadata": {},
   "source": [
    "### **To what extent is the growth of nestling blue tits (Cyanistes caeruleus) influenced by competition with siblings?**\n",
    "#### Project - *Same data, different analysts: variation in effect sizes due to analytical decisions in ecology and evolutionary biology*"
   ]
  },
  {
   "cell_type": "markdown",
   "metadata": {},
   "source": [
    "Libraries"
   ]
  },
  {
   "cell_type": "code",
   "execution_count": null,
   "metadata": {},
   "outputs": [],
   "source": [
    "require (dplyr)\n",
    "require (visreg)\n",
    "require (lme4)\n",
    "require (sjPlot)\n",
    "require (ggplot2)\n",
    "require (cowplot)"
   ]
  },
  {
   "cell_type": "markdown",
   "metadata": {},
   "source": [
    "Functions"
   ]
  },
  {
   "cell_type": "code",
   "execution_count": null,
   "metadata": {},
   "outputs": [],
   "source": [
    "as.num.fact <- function(x) {   #Convert numeric factor into real number\n",
    "  as.numeric(as.character(x))\n",
    "}"
   ]
  },
  {
   "cell_type": "markdown",
   "metadata": {},
   "source": [
    "Data"
   ]
  },
  {
   "cell_type": "code",
   "execution_count": null,
   "metadata": {},
   "outputs": [],
   "source": [
    "blue_tit_data=read.csv (\"blue_tit_data_updated_2020-04-18.csv\")\n",
    "head(blue_tit_data)"
   ]
  },
  {
   "cell_type": "markdown",
   "metadata": {},
   "source": [
    "Correct variables types"
   ]
  },
  {
   "cell_type": "code",
   "execution_count": null,
   "metadata": {},
   "outputs": [],
   "source": [
    "blue_tit_data=within (blue_tit_data,{\n",
    "    rear_Cs_at_start_of_rearing = as.num.fact (rear_Cs_at_start_of_rearing)\n",
    "    number_chicks_fledged_from_rear_nest = as.num.fact(number_chicks_fledged_from_rear_nest)\n",
    "    rear_d0_rear_nest_brood_size = as.num.fact (rear_d0_rear_nest_brood_size)\n",
    "    d14_rear_nest_brood_size = as.num.fact (d14_rear_nest_brood_size)\n",
    "    rear_nest_LD = as.num.fact (rear_nest_LD)\n",
    "    number_chicks_fledged_from_rear_nest = as.num.fact(number_chicks_fledged_from_rear_nest)\n",
    "    day_14_tarsus_length = as.num.fact(day_14_tarsus_length)\n",
    "    day_14_weight = as.num.fact(day_14_weight)\n",
    "    net_rearing_manipulation= as.num.fact(net_rearing_manipulation)\n",
    "    hatch_nest_CS= as.num.fact(hatch_nest_CS)\n",
    "    rear_area=factor (rear_area)\n",
    "    rear_Box=factor (rear_Box)\n",
    "    home_or_away=factor(home_or_away)\n",
    "  })"
   ]
  },
  {
   "cell_type": "markdown",
   "metadata": {},
   "source": [
    "#### **Analysis at the \"population level\" (nests were considered sampling units)**\n",
    "#### *In this first approach, I'm going to test the influence of the number of live chicks in the nest (proxy for intraspecific competition) on the average and variance of chick's mass at day 14 (proxy for growth), and on the number of chicks that survived to leave the nest*"
   ]
  },
  {
   "cell_type": "markdown",
   "metadata": {},
   "source": [
    "Define a variable that separates manipulated and non-manipulated nests. \n",
    "Remove variables that we are not going to use for this approach"
   ]
  },
  {
   "cell_type": "code",
   "execution_count": null,
   "metadata": {},
   "outputs": [],
   "source": [
    "blue_tit_data$Treatment=ifelse(blue_tit_data$rear_nest_trt=='5' |\n",
    "                               blue_tit_data$rear_nest_trt=='6', 'Yes','No')\n",
    "\n",
    "pop_data=blue_tit_data[,c(\"rear_Cs_at_start_of_rearing\",\n",
    "                          \"d14_rear_nest_brood_size\",\n",
    "                          \"number_chicks_fledged_from_rear_nest\",\n",
    "                          \"day_14_tarsus_length\",\n",
    "                          \"day_14_weight\",\n",
    "                          \"rear_nest_LD\",\n",
    "                          \"rear_area\",\n",
    "                          \"rear_Box\",\n",
    "                          \"Treatment\",\n",
    "                          \"net_rearing_manipulation\")]"
   ]
  },
  {
   "cell_type": "markdown",
   "metadata": {},
   "source": [
    "Calculate average and standard deviation for the variables according to each nest box. Note that for some variables, sd will be zero because the variables were measured at the population level (e.g., number_chicks_fledged_from_rear_nest)"
   ]
  },
  {
   "cell_type": "code",
   "execution_count": null,
   "metadata": {},
   "outputs": [],
   "source": [
    "pop_data=pop_data %>% \n",
    "  group_by(rear_Box, rear_area,Treatment) %>% \n",
    "  summarise_all(.funs = list(Mean= ~ mean(x=.),\n",
    "                             Sd= ~sd (x=.)))"
   ]
  },
  {
   "cell_type": "markdown",
   "metadata": {},
   "source": [
    "Explore the correlation between:\n",
    "\n",
    "* Number of live chicks in the nest at day 14 after hatching (d14_rear_nest_brood_size) and the number of chicks in nest at day 0 (rear_Cs_at_start_of_rearing). These two variables are proxies for the number of chicks in the nests. \n",
    "* Number of live chicks in the nest at day 0 and the net change in chick number in nest where chick reared. These variables are expected to correlated given that net changes in chick number are directly related with the final number of chicks in the nest (i.e., if you remove chicks from the nest, the number of chicks of the nest is reduced and vice-versa). Non-manipulated nests will have NAs for net changes in chicks' number.\n",
    "* Tarsus average length (mm) and average mass of chicks (g) at day 14. These two variables are proxies for the average growth of chicks.   "
   ]
  },
  {
   "cell_type": "code",
   "execution_count": null,
   "metadata": {},
   "outputs": [],
   "source": [
    "options(repr.plot.width=10, repr.plot.height=10)\n",
    "par (mfrow=c(2,2))\n",
    "cor_test1=cor.test (pop_data$d14_rear_nest_brood_size_Mean,\n",
    "                    pop_data$rear_Cs_at_start_of_rearing_Mean)\n",
    "plot(d14_rear_nest_brood_size_Mean~rear_Cs_at_start_of_rearing_Mean,\n",
    "     data=pop_data,main=paste('Cor=' ,round(cor_test1$estimate,2), \n",
    "                              \", p-value\", ifelse(cor_test1$p.value<0.001,\n",
    "                                                  \"< 0.001\",round(cor_test1$p.value,3))),\n",
    "    ylab= \"Number of chicks in the nest at day 14\",\n",
    "    xlab= \"Number of chicks in the nest at day 0\",\n",
    "    cex.axis=1.1, cex.lab=1.3,cex.main=1.3,\n",
    "    pch=16, col=rgb(red=0.2, green=0.2, blue=1.0, alpha=0.2))\n",
    "\n",
    "cor_test2=cor.test (pop_data$rear_Cs_at_start_of_rearing_Mean,\n",
    "                    pop_data$net_rearing_manipulation_Mean)\n",
    "plot(rear_Cs_at_start_of_rearing_Mean~net_rearing_manipulation_Mean,\n",
    "     data=pop_data,main=paste('Cor=' ,round(cor_test2$estimate,2), \n",
    "                              \", p-value\", ifelse(cor_test2$p.value<0.001,\n",
    "                                                  \"< 0.001\",round(cor_test2$p.value,3))),\n",
    "    ylab= \"Number of chicks in the nest at day 0\",\n",
    "    xlab= \"Net rearing manipulation\",\n",
    "    cex.axis=1.1, cex.lab=1.3,cex.main=1.3,\n",
    "    pch=16, col=rgb(red=0.2, green=0.2, blue=1.0, alpha=0.2))\n",
    "\n",
    "cor_test3=cor.test (pop_data$day_14_tarsus_length_Mean,\n",
    "                    pop_data$day_14_weight_Mean)\n",
    "plot(pop_data$day_14_tarsus_length_Mean~pop_data$day_14_weight_Mean,\n",
    "     data=pop_data,main=paste('Cor=' ,round(cor_test3$estimate,2), \n",
    "                              \", p-value\", ifelse(cor_test3$p.value<0.001,\n",
    "                                                  \"< 0.001\",round(cor_test3$p.value,3))),\n",
    "    ylab=\" Tarsus average length (mm)\",\n",
    "    xlab=\"Average mass of chicks (g)\",\n",
    "    cex.axis=1.1, cex.lab=1.3,cex.main=1.3,\n",
    "    pch=16, col=rgb(red=0.2, green=0.2, blue=1.0, alpha=0.2))"
   ]
  },
  {
   "cell_type": "markdown",
   "metadata": {},
   "source": [
    "All pair of variables are strongly correlated. In order to avoid multicolinearity in my analysis, I will use:\n",
    "* The number of chicks in nest at day 0 (rear_Cs_at_start_of_rearing) as a single proxy for intraspecific competition.  \n",
    "* Mass of chicks at day 14 (day_14_weight_Mean) as a single proxy for chicks growth. "
   ]
  },
  {
   "cell_type": "code",
   "execution_count": null,
   "metadata": {},
   "outputs": [],
   "source": [
    "pop_data= subset(pop_data, select=-c(d14_rear_nest_brood_size_Mean,\n",
    "                                     day_14_tarsus_length_Mean,\n",
    "                                     net_rearing_manipulation_Mean\n",
    "                                    ))\n",
    "pop_data= na.omit(pop_data) # Remove NAs"
   ]
  },
  {
   "cell_type": "markdown",
   "metadata": {},
   "source": [
    "Convert some variable into integers and calculate the coefficient of variance of chicks' mass"
   ]
  },
  {
   "cell_type": "code",
   "execution_count": null,
   "metadata": {},
   "outputs": [],
   "source": [
    "pop_data$number_chicks_fledged_from_rear_nest=as.integer(pop_data$number_chicks_fledged_from_rear_nest_Mean)\n",
    "pop_data$rear_Cs_at_start_of_rearing=as.integer(pop_data$rear_Cs_at_start_of_rearing_Mean)\n",
    "pop_data$day_14_weight_CV= (pop_data$day_14_weight_Sd/pop_data$day_14_weight_Mean)"
   ]
  },
  {
   "cell_type": "markdown",
   "metadata": {},
   "source": [
    "Now, I'm going to model the influence of the number of chicks in the nests on the response variables: average growth, coefficient variance of average growth, and chicks survivorship. I'm going to conduct univariate models. For each response variable, two models will be conducted: one with a single exploratory variable(the number of chicks in the nests), and another with one exploratory variable (the number of chicks in the nests) and three co-variables (rear area,the date of the first egg was laid, and treatment [manipulated or non-manipulated])."
   ]
  },
  {
   "cell_type": "code",
   "execution_count": null,
   "metadata": {},
   "outputs": [],
   "source": [
    "# Average growth model - without co-variables\n",
    "Model_mean_growth=lm (day_14_weight_Mean~rear_Cs_at_start_of_rearing,\n",
    "                      data=pop_data)\n",
    "(Summary_MMeangrowth=summary(Model_mean_growth))"
   ]
  },
  {
   "cell_type": "code",
   "execution_count": null,
   "metadata": {},
   "outputs": [],
   "source": [
    "# Average growth model - with co-variables\n",
    "Model_mean_growth_cov=lm (day_14_weight_Mean~rear_Cs_at_start_of_rearing+\n",
    "                            rear_area+rear_nest_LD_Mean+Treatment,\n",
    "                      data=pop_data)\n",
    "(Summary_MMeangrowth_cov=summary(Model_mean_growth_cov))"
   ]
  },
  {
   "cell_type": "code",
   "execution_count": null,
   "metadata": {},
   "outputs": [],
   "source": [
    "#Growth variation model - without co-variables\n",
    "Model_CV_growth=lm (day_14_weight_CV~rear_Cs_at_start_of_rearing,\n",
    "                    data=pop_data)\n",
    "(Summary_MCVgrowth=summary(Model_CV_growth))"
   ]
  },
  {
   "cell_type": "code",
   "execution_count": null,
   "metadata": {},
   "outputs": [],
   "source": [
    "#Growth variation model - with co-variables\n",
    "Model_CV_growth_cov=lm (day_14_weight_CV~rear_Cs_at_start_of_rearing+\n",
    "                            rear_area+rear_nest_LD_Mean+Treatment,\n",
    "                          data=pop_data)\n",
    "(Summary_MCVgrowth_cov=summary(Model_CV_growth_cov))"
   ]
  },
  {
   "cell_type": "code",
   "execution_count": null,
   "metadata": {},
   "outputs": [],
   "source": [
    "#Survival Model - Without co-variables\n",
    "Model_mean_Surv= glm (cbind(number_chicks_fledged_from_rear_nest,\n",
    "                            rear_Cs_at_start_of_rearing)~\n",
    "                      rear_Cs_at_start_of_rearing,\n",
    "                      data=pop_data,family=\"binomial\")\n",
    "paste(\"In-sample R2 =\", \n",
    "(1 - (Model_mean_Surv$deviance/Model_mean_Surv$null.deviance))) \n",
    "(Summary_MSurv=summary(Model_mean_Surv))"
   ]
  },
  {
   "cell_type": "code",
   "execution_count": null,
   "metadata": {},
   "outputs": [],
   "source": [
    "#Survival Model - With co-variables\n",
    "Model_mean_Surv_cov=glm (cbind(number_chicks_fledged_from_rear_nest,\n",
    "                               rear_Cs_at_start_of_rearing)~\n",
    "                           rear_Cs_at_start_of_rearing+\n",
    "                           rear_area+rear_nest_LD_Mean+Treatment,\n",
    "                         data=pop_data,family=\"binomial\")\n",
    "paste(\"In-sample R2 =\",\n",
    "(1 - (Model_mean_Surv_cov$deviance/ Model_mean_Surv_cov$null.deviance))) \n",
    "(Summary_MSurv_cov=summary(Model_mean_Surv_cov))"
   ]
  },
  {
   "cell_type": "markdown",
   "metadata": {},
   "source": [
    "Visualize the effect of the number of chicks in the nests on our response variables according to the models created. "
   ]
  },
  {
   "cell_type": "code",
   "execution_count": null,
   "metadata": {},
   "outputs": [],
   "source": [
    "options(repr.plot.width=10, repr.plot.height=15)\n",
    "par(mfrow=c(3,2))\n",
    "\n",
    "# Average growth models\n",
    "visreg(Model_mean_growth, xlab=\"Number of live chicks in the nest\", \n",
    "       ylab=\"Average chick's mass (g) at day 14\",\n",
    "       cex.axis=1.2, cex.lab=1.5,cex.main=1.5,points=list(cex=1.6, pch=20),\n",
    "       main=paste(\"Model without co-variables,\",\n",
    "                  \"Slope =\", round(Summary_MMeangrowth$coefficients[2,1],3),\n",
    "                  \", p-value\", ifelse(Summary_MMeangrowth$coefficients[2,4]<0.001,\n",
    "                                      \"< 0.001\",paste(\"=\",round(Summary_MMeangrowth$coefficients[2,4],3))))\n",
    "       ) \n",
    "\n",
    "\n",
    "\n",
    "visreg(Model_mean_growth_cov,xvar=\"rear_Cs_at_start_of_rearing\", \n",
    "       xlab=\"Number of live chicks in the nest\", \n",
    "       ylab=\"Average chick's mass (g) at day 14\",\n",
    "       cex.axis=1.2, cex.lab=1.5,cex.main=1.5,points=list(cex=1.6, pch=20),\n",
    "       main=paste(\"Model with co-variables,\",\n",
    "                  \"Slope =\", round(Summary_MMeangrowth_cov$coefficients[2,1],3),\n",
    "                  \", p-value\", ifelse(Summary_MMeangrowth_cov$coefficients[2,4]<0.001,\n",
    "                                      \"< 0.001\",paste(\"=\",round(Summary_MMeangrowth_cov$coefficients[2,4],3))))\n",
    "       )\n",
    "\n",
    "# Growth variation models\n",
    "visreg(Model_CV_growth, xlab=\"Number of live chicks in the nest\", \n",
    "       ylab=\"CV of chicks' mass (g) at day 14\",\n",
    "       cex.axis=1.2, cex.lab=1.5,cex.main=1.5,points=list(cex=1.6, pch=20),\n",
    "       main=paste(\"Model without co-variables,\",\n",
    "                  \"Slope =\", round(Summary_MCVgrowth$coefficients[2,1],3),\n",
    "                  \", p-value\", ifelse(Summary_MCVgrowth$coefficients[2,4]<0.001,\n",
    "                                      \"< 0.001\",paste(\"=\",round(Summary_MCVgrowth$coefficients[2,4],3))))\n",
    ")\n",
    "\n",
    "visreg(Model_CV_growth_cov,xvar=\"rear_Cs_at_start_of_rearing\", \n",
    "       xlab=\"Number of live chicks in the nest\", \n",
    "       ylab=\"CV of chick's mass (g) at day 14\",\n",
    "       cex.axis=1.2, cex.lab=1.5,cex.main=1.5,points=list(cex=1.6, pch=20),\n",
    "       main=paste(\"Model with co-variables,\",\n",
    "                  \"Slope =\", round(Summary_MCVgrowth_cov$coefficients[2,1],3),\n",
    "                  \", p-value\", ifelse(Summary_MCVgrowth_cov$coefficients[2,4]<0.001,\n",
    "                                      \"< 0.001\",paste(\"=\",round(Summary_MCVgrowth_cov$coefficients[2,4],3))))\n",
    "       )\n",
    "\n",
    "# Survival models\n",
    "visreg(Model_mean_Surv,scale=\"response\",rug=2,ylab=\"\",\n",
    "       xlab=\"Number of live chicks in the nest\",\n",
    "       ylab=\"Pr (number of chicks that survived to leave the nest)\",\n",
    "       cex.axis=1.2, cex.lab=1.5,cex.main=1.5,points=list(cex=1.6, pch=20),\n",
    "       main=paste(\"Model with co-variables,\",\n",
    "                  \"Slope =\", round(Summary_MSurv$coefficients[2,1],3),\n",
    "                  \", p-value\", ifelse(Summary_MSurv$coefficients[2,4]<0.001,\n",
    "                                      \"< 0.001\",paste(\"=\",round(Summary_MSurv$coefficients[2,4],3))))\n",
    "       )\n",
    "\n",
    "visreg(Model_mean_Surv_cov,scale=\"response\",rug=2,\n",
    "       xvar=\"rear_Cs_at_start_of_rearing\",\n",
    "       xlab=\"Number of live chicks in the nest\",\n",
    "       ylab=\"Pr (number of chicks that survived to leave the nest)\",\n",
    "       cex.axis=1.2, cex.lab=1.5,cex.main=1.5,points=list(cex=1.6, pch=20),\n",
    "       main=paste(\"Model with co-variables,\",\n",
    "                  \"Slope =\", round(Summary_MSurv_cov$coefficients[2,1],3),\n",
    "                  \", p-value\", ifelse(Summary_MSurv_cov$coefficients[2,4]<0.001,\n",
    "                                      \"< 0.001\",paste(\"=\",round(Summary_MSurv_cov$coefficients[2,4],3))))\n",
    "                  )"
   ]
  },
  {
   "cell_type": "markdown",
   "metadata": {},
   "source": [
    "These results indicate that intraspecific competition has a significant effect on the growth (average and variation) and survivorship of nestling blue tits. These effects were still significant after accounting for potential confounding variables related to environmental conditions. However, it should be highlighted that the relationship among the variables is usually weak, especially for growth variance and survivorship."
   ]
  },
  {
   "cell_type": "markdown",
   "metadata": {},
   "source": [
    "#### **Analysis at the \"individual level\" (chicks were considered sampling units)**\n",
    "#### *In this second approach, I'm going to explore how clutch size and number of live chicks in the nest affect chick's mass at day 14 (a proxy for growth) and chick's survival to the first breeding season. For this analysis, I'm only going to use nests that were manipulated. This was necessary to tear apart the effects of clutch size (hatch_nest_CS) and the competition with other life chicks (net_rearing_manipulation). Clutch size reflects exploitative competition at early life stages, when the resources of the mother are divided into different eggs. On the other hand, number of live chicks in the nest (here manipulated experimentally) is related to interference competition for food that is brought to the nest by the father.*"
   ]
  },
  {
   "cell_type": "markdown",
   "metadata": {},
   "source": [
    "Subset data"
   ]
  },
  {
   "cell_type": "code",
   "execution_count": null,
   "metadata": {},
   "outputs": [],
   "source": [
    "ind_data=subset(blue_tit_data, rear_nest_trt=='5' | rear_nest_trt=='6')"
   ]
  },
  {
   "cell_type": "markdown",
   "metadata": {},
   "source": [
    "Retain only variables that will be used in this approach."
   ]
  },
  {
   "cell_type": "code",
   "execution_count": null,
   "metadata": {},
   "outputs": [],
   "source": [
    "ind_data=blue_tit_data[,c(\"chick_survival_to_first_breed_season\",\n",
    "                          \"day_14_weight\",\n",
    "                          \"rear_Cs_at_start_of_rearing\",\n",
    "                          \"hatch_nest_CS\",\n",
    "                          \"rear_Box\",\n",
    "                          \"hatch_Box\",\n",
    "                          \"net_rearing_manipulation\",\n",
    "                          \"rear_area\",\n",
    "                          \"rear_nest_LD\",\n",
    "                          \"home_or_away\"\n",
    "                          )]\n",
    "ind_data=na.omit(ind_data) # remove Nas"
   ]
  },
  {
   "cell_type": "markdown",
   "metadata": {},
   "source": [
    "Explore the correlation between our two main exploratory variables"
   ]
  },
  {
   "cell_type": "code",
   "execution_count": null,
   "metadata": {},
   "outputs": [],
   "source": [
    "options(repr.plot.width=5, repr.plot.height=5)\n",
    "par (mfrow=c(1,1))\n",
    "cor_test4=cor.test (ind_data$net_rearing_manipulation,ind_data$hatch_nest_CS)\n",
    "plot (ind_data$net_rearing_manipulation~ind_data$hatch_nest_CS,\n",
    "      cex.axis=1.1, cex.lab=1.3,cex.main=1.3,\n",
    "      pch=16, col=rgb(red=0.2, green=0.2, blue=1.0, alpha=0.2),\n",
    "      ylab= \"Net rearing manipulation\",\n",
    "      xlab= \"Clutch size from which the chick hatched\",\n",
    "      main=paste('Cor=' ,round(cor_test4$estimate,2), \n",
    "                 \", p-value\", ifelse(cor_test4$p.value<0.001,\n",
    "                                     \"< 0.001\",round(cor_test4$p.value,3))))"
   ]
  },
  {
   "cell_type": "markdown",
   "metadata": {},
   "source": [
    "The correlation is weak and non-significant. So, we can proceed to our main analysis. For this individual approach, we are going to use (generalized) linear mixed models to explore variation in chicks’ weight and survival. This is necessary in order to incorporate the lack of independency between sample units (in this case, chicks). Individual chicks cannot be considered independent units because multiple chicks from the same nests were measured. For each response variable, two models will be conducted: one with two exploratory variable (net rearing manipulation and clutch size from which the chick hatched), and another with two exploratory variable (net rearing manipulation and clutch size from which the chick hatched and three co-variables (rear area, the date of the first egg was laid, and whether the chick was reared in the nest in which it hatched or had been moved by an experimenter to another nest). In all cases, rear nest box ID will be considered as a random variable (random intercept)."
   ]
  },
  {
   "cell_type": "code",
   "execution_count": null,
   "metadata": {},
   "outputs": [],
   "source": [
    "# Growth model - without co-variables\n",
    "model_id_growth= lmer (day_14_weight~hatch_nest_CS+\n",
    "                    net_rearing_manipulation+ \n",
    "                    (1|rear_Box),\n",
    "                    data=ind_data,REML=FALSE)\n",
    "(Summary_MIG = summary(model_id_growth))\n",
    "#calculate p values for the exploratory variables\n",
    "model_id_growth0_1= update(model_id_growth,. ~ . -net_rearing_manipulation) \n",
    "model_id_growth0_2= update(model_id_growth,. ~ . -hatch_nest_CS) \n",
    "sig1=anova(model_id_growth,model_id_growth0_1)[2,8]\n",
    "sig2=anova(model_id_growth,model_id_growth0_2)[2,8]"
   ]
  },
  {
   "cell_type": "code",
   "execution_count": null,
   "metadata": {},
   "outputs": [],
   "source": [
    "# Growth model - with co-variables\n",
    "model_id_growth_cov= lmer (day_14_weight~hatch_nest_CS+\n",
    "                    net_rearing_manipulation+\n",
    "                    rear_area+rear_nest_LD+home_or_away+\n",
    "                    (1|rear_Box),\n",
    "                    data=ind_data,REML=FALSE)\n",
    "(Summary_MIG_cov = summary(model_id_growth_cov))\n",
    "\n",
    "#calculate p values for the exploratory variables\n",
    "model_id_growth0_1_cov= update(model_id_growth_cov,. ~ . -net_rearing_manipulation) \n",
    "model_id_growth0_2_cov= update(model_id_growth_cov,. ~ . -hatch_nest_CS) \n",
    "sig1_cov=anova(model_id_growth_cov,model_id_growth0_1_cov)[2,8]\n",
    "sig2_cov=anova(model_id_growth_cov,model_id_growth0_2_cov)[2,8]"
   ]
  },
  {
   "cell_type": "code",
   "execution_count": null,
   "metadata": {},
   "outputs": [],
   "source": [
    "#Survival model - without co-variables\n",
    "model_id_surv=glmer (chick_survival_to_first_breed_season~hatch_nest_CS+\n",
    "                     net_rearing_manipulation+ \n",
    "                     (1|rear_Box),\n",
    "                     data=ind_data, family=\"binomial\")\n",
    "(Summary_MIDsurv=summary(model_id_surv))"
   ]
  },
  {
   "cell_type": "code",
   "execution_count": null,
   "metadata": {},
   "outputs": [],
   "source": [
    "#Survival model - without co-variables\n",
    "model_id_surv_cov=glmer (chick_survival_to_first_breed_season~hatch_nest_CS+\n",
    "                     net_rearing_manipulation+\n",
    "                     rear_area+rear_nest_LD+home_or_away+\n",
    "                     (1|rear_Box),\n",
    "                     data=ind_data, family=\"binomial\",nAGQ=20,\n",
    "                        glmerControl(optimizer = \"bobyqa\"))\n",
    "#bobyqa optimizer was used to overcome some convergence issues\n",
    "(Summary_MIDsurv_cov=summary(model_id_surv_cov))"
   ]
  },
  {
   "cell_type": "markdown",
   "metadata": {},
   "source": [
    "Now, let's take a look of the predictions of our models"
   ]
  },
  {
   "cell_type": "code",
   "execution_count": null,
   "metadata": {},
   "outputs": [],
   "source": [
    "options(repr.plot.width=11, repr.plot.height=18)\n",
    "\n",
    "theme_set (theme_bw())\n",
    "P1= plot_model (model_id_growth,type=\"eff\",show.data=TRUE)$hatch_nest_CS\n",
    "P1= P1+theme(panel.grid.major = element_blank(),panel.grid.minor = element_blank(),\n",
    "            axis.text=element_text(size=12),axis.title=element_text(size=14))+\n",
    "    labs(y=\"Chick's mass (g) at day 14\",x=\"Clutch size from which the chick hatched\")+ \n",
    "    ggtitle(paste(\"Model without co-variables,\",\n",
    "                  \"Slope =\", round(Summary_MIG$coefficients[2,1],3),\n",
    "                  \", p-value\", ifelse(sig1<0.001,\n",
    "                                      \"< 0.001\",paste(\"=\",round(sig1,3)))\n",
    "                 ))\n",
    "\n",
    "P2= plot_model (model_id_growth_cov,type=\"eff\",show.data=TRUE)$hatch_nest_CS\n",
    "P2= P2+theme(panel.grid.major = element_blank(),panel.grid.minor = element_blank(),\n",
    "            axis.text=element_text(size=12),axis.title=element_text(size=14))+\n",
    "    labs(y=\"Chick's mass (g) at day 14\",x=\"Clutch size from which the chick hatched\")+ \n",
    "    ggtitle(paste(\"Model with co-variables,\",\n",
    "                  \"Slope =\", round(Summary_MIG_cov$coefficients[2,1],3),\n",
    "                  \", p-value\", ifelse(sig1_cov<0.001,\n",
    "                                      \"< 0.001\",paste(\"=\",round(sig1_cov,3)))\n",
    "                 ))\n",
    "\n",
    "P3= plot_model (model_id_growth,type=\"eff\",show.data=TRUE)$net_rearing_manipulation\n",
    "P3= P3+theme(panel.grid.major = element_blank(),panel.grid.minor = element_blank(),\n",
    "            axis.text=element_text(size=12),axis.title=element_text(size=14))+\n",
    "    labs(y=\"Chick's mass (g) at day 14\",x=\"Net rearing manipulation\")+ \n",
    "    ggtitle(paste(\"Model without co-variables,\",\n",
    "                  \"Slope =\", round(Summary_MIG$coefficients[3,1],3),\n",
    "                  \", p-value\", ifelse(sig2<0.001,\n",
    "                                      \"< 0.001\",paste(\"=\",round(sig2,3)))\n",
    "                 ))\n",
    "\n",
    "P4= plot_model (model_id_growth_cov,type=\"eff\",show.data=TRUE)$net_rearing_manipulation\n",
    "P4= P4+theme(panel.grid.major = element_blank(),panel.grid.minor = element_blank(),\n",
    "            axis.text=element_text(size=12),axis.title=element_text(size=14))+\n",
    "    labs(y=\"Chick's mass (g) at day 14\",x=\"Net rearing manipulation\")+ \n",
    "    ggtitle(paste(\"Model with co-variables,\",\n",
    "                  \"Slope =\", round(Summary_MIG_cov$coefficients[3,1],3),\n",
    "                  \", p-value\", ifelse(sig2_cov<0.001,\n",
    "                                      \"< 0.001\",paste(\"=\",round(sig2_cov,3)))\n",
    "                 ))\n",
    "\n",
    "P5= plot_model (model_id_surv,type=\"eff\")$hatch_nest_CS\n",
    "P5= P5+theme(panel.grid.major = element_blank(),panel.grid.minor = element_blank(),\n",
    "            axis.text=element_text(size=12),axis.title=element_text(size=14))+\n",
    "    labs(y=\"Prob(Chick's survivorship)\",x=\"Clutch size from which the chick hatched\")+\n",
    "    ylim(0, 0.15)+geom_rug(sides='tb')+\n",
    "    ggtitle(paste(\"Model without co-variables,\",\n",
    "                  \"Slope =\", round(Summary_MIDsurv$coefficients[2,1],3),\n",
    "                  \", p-value\", ifelse(Summary_MIDsurv$coefficients[2,4]<0.001,\n",
    "                                      \"< 0.001\",paste(\"=\",round(Summary_MIDsurv$\n",
    "                                                                coefficients[2,4],3)))\n",
    "                 ))\n",
    "\n",
    "P6= plot_model (model_id_surv_cov,type=\"eff\")$hatch_nest_CS\n",
    "P6= P6+theme(panel.grid.major = element_blank(),panel.grid.minor = element_blank(),\n",
    "            axis.text=element_text(size=12),axis.title=element_text(size=14))+\n",
    "    labs(y=\"Prob(Chick's survivorship)\",x=\"Clutch size from which the chick hatched\")+\n",
    "    ylim(0, 0.15)+geom_rug(sides='tb')+\n",
    "    ggtitle(paste(\"Model with co-variables,\",\n",
    "                  \"Slope =\", round(Summary_MIDsurv_cov$coefficients[2,1],3),\n",
    "                  \", p-value\", ifelse(Summary_MIDsurv_cov$coefficients[2,4]<0.001,\n",
    "                                      \"< 0.001\",paste(\"=\",round(Summary_MIDsurv_cov$\n",
    "                                                                coefficients[2,4],3)))\n",
    "                 ))\n",
    "\n",
    "P7= plot_model (model_id_surv,type=\"eff\")$net_rearing_manipulation\n",
    "P7= P7+theme(panel.grid.major = element_blank(),panel.grid.minor = element_blank(),\n",
    "            axis.text=element_text(size=12),axis.title=element_text(size=14))+\n",
    "    labs(y=\"Prob(Chick's survivorship)\",x=\"Net rearing manipulation\")+\n",
    "    ylim(0, 0.15)+geom_rug(sides='tb')+\n",
    "    ggtitle(paste(\"Model without co-variables,\",\n",
    "                  \"Slope =\", round(Summary_MIDsurv$coefficients[3,1],3),\n",
    "                  \", p-value\", ifelse(Summary_MIDsurv$coefficients[3,4]<0.001,\n",
    "                                      \"< 0.001\",paste(\"=\",round(Summary_MIDsurv$\n",
    "                                                                coefficients[3,4],3)))\n",
    "                 ))\n",
    "\n",
    "P8= plot_model (model_id_surv_cov,type=\"eff\")$net_rearing_manipulation\n",
    "P8= P8+theme(panel.grid.major = element_blank(),panel.grid.minor = element_blank(),\n",
    "            axis.text=element_text(size=12),axis.title=element_text(size=14))+\n",
    "    labs(y=\"Prob(Chick's survivorship)\",x=\"Net rearing manipulation\")+\n",
    "    ylim(0, 0.15)+geom_rug(sides='tb')+\n",
    "    ggtitle(paste(\"Model with co-variables,\",\n",
    "                  \"Slope =\", round(Summary_MIDsurv_cov$coefficients[3,1],3),\n",
    "                  \", p-value\", ifelse(Summary_MIDsurv_cov$coefficients[3,4]<0.001,\n",
    "                                      \"< 0.001\",paste(\"=\",round(Summary_MIDsurv_cov$\n",
    "                                                                coefficients[3,4],3)))\n",
    "                 ))\n",
    "\n",
    "plot_grid (P1,P2,P3,P4,P5,P6,P7,P8,nrow=4,ncol=2)"
   ]
  },
  {
   "cell_type": "markdown",
   "metadata": {},
   "source": [
    "These results indicate that chicks’ weight (a proxy for growth) is negatively associated with clutch size and also with the net hearing manipulation (i.e. adding more chicks in the nests leads to lower chicks’ weight). These results were consistent either in the presence or not of influential co-variables. Net rearing manipulation was also negatively associated with chicks' survival, indicating that higher numbers of chicks in the nests lead to lower levels of survivorship. On the other hand, clutch size had a positive marginally significant relationship with chick's survivorship when models without co-variables were used. This result switch to a negative non-significant relationship when models with co-variables were used. What happened? Well, the answer is probably related to the inclusion of the co-variable \"hatch_nest_LD\", which describe the date of the first egg was laid ('lay date') in the clutch from which the chick hatched (April 1 = 1). Let's take a look at the relationship between these two variables below. "
   ]
  },
  {
   "cell_type": "code",
   "execution_count": 192,
   "metadata": {},
   "outputs": [
    {
     "name": "stderr",
     "output_type": "stream",
     "text": [
      "Scale for 'y' is already present. Adding another scale for 'y', which will\n",
      "replace the existing scale.\n",
      "\n"
     ]
    },
    {
     "data": {
      "image/png": "[encoded data removed]",
      "text/plain": [
       "plot without title"
      ]
     },
     "metadata": {
      "image/png": {
       "height": 300,
       "width": 660
      }
     },
     "output_type": "display_data"
    }
   ],
   "source": [
    "options(repr.plot.width=11, repr.plot.height=5)\n",
    "cor_test5=cor.test (ind_data$hatch_nest_CS,ind_data$rear_nest_LD)\n",
    "\n",
    "P9= ggplot (ind_data,aes(y=hatch_nest_CS,x=rear_nest_LD))+\n",
    "    geom_point()+\n",
    "    theme(panel.grid.major = element_blank(),panel.grid.minor = element_blank(),\n",
    "            axis.text=element_text(size=12),axis.title=element_text(size=14))+\n",
    "    labs(y=\"Clutch size from which the chick hatched\",x=\"Lay date (April1 =1)\")+\n",
    "    ggtitle(paste(\"Cor=\", round(cor_test5$estimate,2),\n",
    "                  \", p-value\", ifelse(cor_test5$p.value<0.001,\n",
    "                                     \"< 0.001\",round(cor_test5$p.value,3))))\n",
    "    \n",
    "P10= plot_model (model_id_surv_cov,type=\"eff\")$rear_nest_LD\n",
    "P10= P10+theme(panel.grid.major = element_blank(),panel.grid.minor = element_blank(),\n",
    "            axis.text=element_text(size=12),axis.title=element_text(size=14))+\n",
    "    labs(y=\"Prob(Chick's survivorship)\",x=\"Lay date (April 1= 1)\")+\n",
    "     ylim(0, 0.20)+geom_rug(sides='tb')+\n",
    "    ggtitle(paste(\"Model with co-variables,\",\n",
    "                  \"Slope =\", round(Summary_MIDsurv_cov$coefficients[3,1],3),\n",
    "                  \", p-value\", ifelse(Summary_MIDsurv_cov$coefficients[3,4]<0.001,\n",
    "                                      \"< 0.001\",paste(\"=\",round(Summary_MIDsurv_cov$\n",
    "                                                                coefficients[3,4],3)))\n",
    "                 ))\n",
    "\n",
    "plot_grid(P9,P10,nrow=1,ncol=2)"
   ]
  },
  {
   "cell_type": "markdown",
   "metadata": {},
   "source": [
    "The figures above show that clutch size is responding to a seasonal (environmental) gradient. Clutch sizes are larger during the Spring than during the Summer. Interestingly, chicks survivorship is also higher during Spring. In this sense, birds are probably nesting during the most favorable period of the year. After controlling for this seasonal gradient, clutch size returns to its expected negative relationship with survivorship, however, this relationship seems weak and non-significant.  "
   ]
  }
 ],
 "metadata": {
  "kernelspec": {
   "display_name": "R",
   "language": "R",
   "name": "ir"
  },
  "language_info": {
   "codemirror_mode": "r",
   "file_extension": ".r",
   "mimetype": "text/x-r-source",
   "name": "R",
   "pygments_lexer": "r",
   "version": "3.6.1"
  }
 },
 "nbformat": 4,
 "nbformat_minor": 4
}
