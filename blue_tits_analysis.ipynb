{
 "cells": [
  {
   "cell_type": "markdown",
   "metadata": {},
   "source": [
    "### **To what extent is the growth of nestling blue tits (Cyanistes caeruleus) influenced by competition with siblings?**\n",
    "#### Project - *Same data, different analysts: variation in effect sizes due to analytical decisions in ecology and evolutionary biology*"
   ]
  },
  {
   "cell_type": "markdown",
   "metadata": {},
   "source": [
    "Libraries"
   ]
  },
  {
   "cell_type": "code",
   "execution_count": 51,
   "metadata": {},
   "outputs": [],
   "source": [
    "require (vegan)\n",
    "require (dplyr)\n",
    "require (visreg)\n",
    "require (boot)"
   ]
  },
  {
   "cell_type": "markdown",
   "metadata": {},
   "source": [
    "Functions"
   ]
  },
  {
   "cell_type": "code",
   "execution_count": 52,
   "metadata": {},
   "outputs": [],
   "source": [
    "as.num.fact <- function(x) {   #Convert numeric factor into real number\n",
    "  as.numeric(as.character(x))\n",
    "}"
   ]
  },
  {
   "cell_type": "markdown",
   "metadata": {},
   "source": [
    "Data"
   ]
  },
  {
   "cell_type": "code",
   "execution_count": 53,
   "metadata": {},
   "outputs": [
    {
     "data": {
      "text/html": [
       "<table>\n",
       "<caption>A data.frame: 6 × 38</caption>\n",
       "<thead>\n",
       "\t<tr><th></th><th scope=col>chick_ring_number</th><th scope=col>hatch_year</th><th scope=col>hatch_nest_breed_ID</th><th scope=col>hatch_Area</th><th scope=col>hatch_Box</th><th scope=col>hatch_mom_Ring</th><th scope=col>hatch_nest_dad_Ring</th><th scope=col>Extra.pair_paternity</th><th scope=col>Extra.pair_dad_ring</th><th scope=col>genetic_dad_ring_.WP_or_EP.</th><th scope=col>...</th><th scope=col>net_rearing_manipulation</th><th scope=col>rear_Cs_at_start_of_rearing</th><th scope=col>d14_rear_nest_brood_size</th><th scope=col>number_chicks_fledged_from_rear_nest</th><th scope=col>Date_of_day14</th><th scope=col>day_14_tarsus_length</th><th scope=col>day_14_weight</th><th scope=col>day14_measurer</th><th scope=col>chick_sex_molec</th><th scope=col>chick_survival_to_first_breed_season</th></tr>\n",
       "\t<tr><th></th><th scope=col>&lt;fct&gt;</th><th scope=col>&lt;int&gt;</th><th scope=col>&lt;int&gt;</th><th scope=col>&lt;fct&gt;</th><th scope=col>&lt;fct&gt;</th><th scope=col>&lt;fct&gt;</th><th scope=col>&lt;fct&gt;</th><th scope=col>&lt;fct&gt;</th><th scope=col>&lt;fct&gt;</th><th scope=col>&lt;fct&gt;</th><th scope=col>...</th><th scope=col>&lt;fct&gt;</th><th scope=col>&lt;fct&gt;</th><th scope=col>&lt;int&gt;</th><th scope=col>&lt;fct&gt;</th><th scope=col>&lt;int&gt;</th><th scope=col>&lt;dbl&gt;</th><th scope=col>&lt;dbl&gt;</th><th scope=col>&lt;int&gt;</th><th scope=col>&lt;fct&gt;</th><th scope=col>&lt;int&gt;</th></tr>\n",
       "</thead>\n",
       "<tbody>\n",
       "\t<tr><th scope=row>1</th><td>P804016</td><td>2001</td><td>201194</td><td>C</td><td>C130</td><td>P803008</td><td>P803007</td><td>1</td><td>.</td><td>.      </td><td>...</td><td>3</td><td>12</td><td>12</td><td>12</td><td>54</td><td>16.6</td><td> 8.0</td><td>1</td><td>2</td><td>0</td></tr>\n",
       "\t<tr><th scope=row>2</th><td>P804017</td><td>2001</td><td>201194</td><td>C</td><td>C130</td><td>P803008</td><td>P803007</td><td>2</td><td>.</td><td>P803007</td><td>...</td><td>3</td><td>12</td><td>12</td><td>12</td><td>54</td><td>15.5</td><td> 8.1</td><td>1</td><td>2</td><td>0</td></tr>\n",
       "\t<tr><th scope=row>3</th><td>P804018</td><td>2001</td><td>201167</td><td>C</td><td>C26 </td><td>P803005</td><td>P803006</td><td>2</td><td>.</td><td>P803006</td><td>...</td><td>3</td><td>12</td><td>12</td><td>12</td><td>54</td><td>17.1</td><td>10.3</td><td>1</td><td>2</td><td>0</td></tr>\n",
       "\t<tr><th scope=row>4</th><td>P804019</td><td>2001</td><td>201194</td><td>C</td><td>C130</td><td>P803008</td><td>P803007</td><td>2</td><td>.</td><td>P803007</td><td>...</td><td>3</td><td>12</td><td>12</td><td>12</td><td>54</td><td>17.6</td><td> 8.4</td><td>1</td><td>1</td><td>0</td></tr>\n",
       "\t<tr><th scope=row>5</th><td>P804020</td><td>2001</td><td>201167</td><td>C</td><td>C26 </td><td>P803005</td><td>P803006</td><td>2</td><td>.</td><td>P803006</td><td>...</td><td>3</td><td>12</td><td>12</td><td>12</td><td>54</td><td>16.3</td><td> 8.1</td><td>1</td><td>1</td><td>0</td></tr>\n",
       "\t<tr><th scope=row>6</th><td>P804021</td><td>2001</td><td>201194</td><td>C</td><td>C130</td><td>P803008</td><td>P803007</td><td>2</td><td>.</td><td>P803007</td><td>...</td><td>3</td><td>12</td><td>12</td><td>12</td><td>54</td><td>16.4</td><td> 8.4</td><td>1</td><td>2</td><td>0</td></tr>\n",
       "</tbody>\n",
       "</table>\n"
      ],
      "text/latex": [
       "A data.frame: 6 × 38\n",
       "\\begin{tabular}{r|lllllllllllllllllllll}\n",
       "  & chick\\_ring\\_number & hatch\\_year & hatch\\_nest\\_breed\\_ID & hatch\\_Area & hatch\\_Box & hatch\\_mom\\_Ring & hatch\\_nest\\_dad\\_Ring & Extra.pair\\_paternity & Extra.pair\\_dad\\_ring & genetic\\_dad\\_ring\\_.WP\\_or\\_EP. & ... & net\\_rearing\\_manipulation & rear\\_Cs\\_at\\_start\\_of\\_rearing & d14\\_rear\\_nest\\_brood\\_size & number\\_chicks\\_fledged\\_from\\_rear\\_nest & Date\\_of\\_day14 & day\\_14\\_tarsus\\_length & day\\_14\\_weight & day14\\_measurer & chick\\_sex\\_molec & chick\\_survival\\_to\\_first\\_breed\\_season\\\\\n",
       "  & <fct> & <int> & <int> & <fct> & <fct> & <fct> & <fct> & <fct> & <fct> & <fct> & ... & <fct> & <fct> & <int> & <fct> & <int> & <dbl> & <dbl> & <int> & <fct> & <int>\\\\\n",
       "\\hline\n",
       "\t1 & P804016 & 2001 & 201194 & C & C130 & P803008 & P803007 & 1 & . & .       & ... & 3 & 12 & 12 & 12 & 54 & 16.6 &  8.0 & 1 & 2 & 0\\\\\n",
       "\t2 & P804017 & 2001 & 201194 & C & C130 & P803008 & P803007 & 2 & . & P803007 & ... & 3 & 12 & 12 & 12 & 54 & 15.5 &  8.1 & 1 & 2 & 0\\\\\n",
       "\t3 & P804018 & 2001 & 201167 & C & C26  & P803005 & P803006 & 2 & . & P803006 & ... & 3 & 12 & 12 & 12 & 54 & 17.1 & 10.3 & 1 & 2 & 0\\\\\n",
       "\t4 & P804019 & 2001 & 201194 & C & C130 & P803008 & P803007 & 2 & . & P803007 & ... & 3 & 12 & 12 & 12 & 54 & 17.6 &  8.4 & 1 & 1 & 0\\\\\n",
       "\t5 & P804020 & 2001 & 201167 & C & C26  & P803005 & P803006 & 2 & . & P803006 & ... & 3 & 12 & 12 & 12 & 54 & 16.3 &  8.1 & 1 & 1 & 0\\\\\n",
       "\t6 & P804021 & 2001 & 201194 & C & C130 & P803008 & P803007 & 2 & . & P803007 & ... & 3 & 12 & 12 & 12 & 54 & 16.4 &  8.4 & 1 & 2 & 0\\\\\n",
       "\\end{tabular}\n"
      ],
      "text/markdown": [
       "\n",
       "A data.frame: 6 × 38\n",
       "\n",
       "| <!--/--> | chick_ring_number &lt;fct&gt; | hatch_year &lt;int&gt; | hatch_nest_breed_ID &lt;int&gt; | hatch_Area &lt;fct&gt; | hatch_Box &lt;fct&gt; | hatch_mom_Ring &lt;fct&gt; | hatch_nest_dad_Ring &lt;fct&gt; | Extra.pair_paternity &lt;fct&gt; | Extra.pair_dad_ring &lt;fct&gt; | genetic_dad_ring_.WP_or_EP. &lt;fct&gt; | ... ... | net_rearing_manipulation &lt;fct&gt; | rear_Cs_at_start_of_rearing &lt;fct&gt; | d14_rear_nest_brood_size &lt;int&gt; | number_chicks_fledged_from_rear_nest &lt;fct&gt; | Date_of_day14 &lt;int&gt; | day_14_tarsus_length &lt;dbl&gt; | day_14_weight &lt;dbl&gt; | day14_measurer &lt;int&gt; | chick_sex_molec &lt;fct&gt; | chick_survival_to_first_breed_season &lt;int&gt; |\n",
       "|---|---|---|---|---|---|---|---|---|---|---|---|---|---|---|---|---|---|---|---|---|---|\n",
       "| 1 | P804016 | 2001 | 201194 | C | C130 | P803008 | P803007 | 1 | . | .       | ... | 3 | 12 | 12 | 12 | 54 | 16.6 |  8.0 | 1 | 2 | 0 |\n",
       "| 2 | P804017 | 2001 | 201194 | C | C130 | P803008 | P803007 | 2 | . | P803007 | ... | 3 | 12 | 12 | 12 | 54 | 15.5 |  8.1 | 1 | 2 | 0 |\n",
       "| 3 | P804018 | 2001 | 201167 | C | C26  | P803005 | P803006 | 2 | . | P803006 | ... | 3 | 12 | 12 | 12 | 54 | 17.1 | 10.3 | 1 | 2 | 0 |\n",
       "| 4 | P804019 | 2001 | 201194 | C | C130 | P803008 | P803007 | 2 | . | P803007 | ... | 3 | 12 | 12 | 12 | 54 | 17.6 |  8.4 | 1 | 1 | 0 |\n",
       "| 5 | P804020 | 2001 | 201167 | C | C26  | P803005 | P803006 | 2 | . | P803006 | ... | 3 | 12 | 12 | 12 | 54 | 16.3 |  8.1 | 1 | 1 | 0 |\n",
       "| 6 | P804021 | 2001 | 201194 | C | C130 | P803008 | P803007 | 2 | . | P803007 | ... | 3 | 12 | 12 | 12 | 54 | 16.4 |  8.4 | 1 | 2 | 0 |\n",
       "\n"
      ],
      "text/plain": [
       "  chick_ring_number hatch_year hatch_nest_breed_ID hatch_Area hatch_Box\n",
       "1 P804016           2001       201194              C          C130     \n",
       "2 P804017           2001       201194              C          C130     \n",
       "3 P804018           2001       201167              C          C26      \n",
       "4 P804019           2001       201194              C          C130     \n",
       "5 P804020           2001       201167              C          C26      \n",
       "6 P804021           2001       201194              C          C130     \n",
       "  hatch_mom_Ring hatch_nest_dad_Ring Extra.pair_paternity Extra.pair_dad_ring\n",
       "1 P803008        P803007             1                    .                  \n",
       "2 P803008        P803007             2                    .                  \n",
       "3 P803005        P803006             2                    .                  \n",
       "4 P803008        P803007             2                    .                  \n",
       "5 P803005        P803006             2                    .                  \n",
       "6 P803008        P803007             2                    .                  \n",
       "  genetic_dad_ring_.WP_or_EP. ... net_rearing_manipulation\n",
       "1 .                           ... 3                       \n",
       "2 P803007                     ... 3                       \n",
       "3 P803006                     ... 3                       \n",
       "4 P803007                     ... 3                       \n",
       "5 P803006                     ... 3                       \n",
       "6 P803007                     ... 3                       \n",
       "  rear_Cs_at_start_of_rearing d14_rear_nest_brood_size\n",
       "1 12                          12                      \n",
       "2 12                          12                      \n",
       "3 12                          12                      \n",
       "4 12                          12                      \n",
       "5 12                          12                      \n",
       "6 12                          12                      \n",
       "  number_chicks_fledged_from_rear_nest Date_of_day14 day_14_tarsus_length\n",
       "1 12                                   54            16.6                \n",
       "2 12                                   54            15.5                \n",
       "3 12                                   54            17.1                \n",
       "4 12                                   54            17.6                \n",
       "5 12                                   54            16.3                \n",
       "6 12                                   54            16.4                \n",
       "  day_14_weight day14_measurer chick_sex_molec\n",
       "1  8.0          1              2              \n",
       "2  8.1          1              2              \n",
       "3 10.3          1              2              \n",
       "4  8.4          1              1              \n",
       "5  8.1          1              1              \n",
       "6  8.4          1              2              \n",
       "  chick_survival_to_first_breed_season\n",
       "1 0                                   \n",
       "2 0                                   \n",
       "3 0                                   \n",
       "4 0                                   \n",
       "5 0                                   \n",
       "6 0                                   "
      ]
     },
     "metadata": {},
     "output_type": "display_data"
    }
   ],
   "source": [
    "blue_tit_data=read.csv (\"blue_tit_data_updated_2020-04-18.csv\")\n",
    "head(blue_tit_data)"
   ]
  },
  {
   "cell_type": "markdown",
   "metadata": {},
   "source": [
    "Correct variables types"
   ]
  },
  {
   "cell_type": "code",
   "execution_count": 54,
   "metadata": {},
   "outputs": [
    {
     "name": "stderr",
     "output_type": "stream",
     "text": [
      "Warning message in as.num.fact(rear_Cs_at_start_of_rearing):\n",
      "\"NAs introduzidos por coerção\"\n",
      "Warning message in as.num.fact(number_chicks_fledged_from_rear_nest):\n",
      "\"NAs introduzidos por coerção\"\n",
      "Warning message in as.num.fact(rear_d0_rear_nest_brood_size):\n",
      "\"NAs introduzidos por coerção\"\n",
      "Warning message in as.num.fact(rear_nest_LD):\n",
      "\"NAs introduzidos por coerção\"\n"
     ]
    }
   ],
   "source": [
    "blue_tit_data=within (blue_tit_data,{\n",
    "  rear_Cs_at_start_of_rearing = as.num.fact (rear_Cs_at_start_of_rearing)\n",
    "  number_chicks_fledged_from_rear_nest = as.num.fact(number_chicks_fledged_from_rear_nest)\n",
    "  rear_d0_rear_nest_brood_size = as.num.fact (rear_d0_rear_nest_brood_size)\n",
    "  d14_rear_nest_brood_size = as.num.fact (d14_rear_nest_brood_size)\n",
    "  rear_nest_LD = as.num.fact (rear_nest_LD)\n",
    "  number_chicks_fledged_from_rear_nest = as.num.fact(number_chicks_fledged_from_rear_nest)\n",
    "  day_14_tarsus_length = as.num.fact(day_14_tarsus_length)\n",
    "  day_14_weight = as.num.fact(day_14_weight)\n",
    "  rear_area=factor (rear_area)\n",
    "  rear_Box=factor (rear_Box)\n",
    "  })"
   ]
  },
  {
   "cell_type": "markdown",
   "metadata": {},
   "source": [
    "Subset data to only encompass manipulated broods "
   ]
  },
  {
   "cell_type": "code",
   "execution_count": 55,
   "metadata": {},
   "outputs": [],
   "source": [
    "blue_tit_data=subset(blue_tit_data, rear_nest_trt=='5' | rear_nest_trt=='6')"
   ]
  },
  {
   "cell_type": "markdown",
   "metadata": {},
   "source": [
    "#### **Analysis at the \"population level\" (nests were considered sampling units)**\n",
    "#### *Here, I'm going to test the influence of the number of live chicks in the nest (proxy for intraspecific competition) on the average and variance of chick's mass at day 14 (proxy for growth), and on the number of chicks that survived to leave the nest*"
   ]
  },
  {
   "cell_type": "markdown",
   "metadata": {},
   "source": [
    "Remove variables that we are not going to use for this approach"
   ]
  },
  {
   "cell_type": "code",
   "execution_count": 57,
   "metadata": {},
   "outputs": [],
   "source": [
    "pop_data=blue_tit_data[,c(\"rear_Cs_at_start_of_rearing\",\n",
    "                          \"d14_rear_nest_brood_size\",\n",
    "                          \"number_chicks_fledged_from_rear_nest\",\n",
    "                          \"day_14_tarsus_length\",\n",
    "                          \"day_14_weight\",\n",
    "                          \"rear_nest_LD\",\n",
    "                          \"rear_area\",\n",
    "                          \"rear_Box\"\n",
    "                          )]"
   ]
  },
  {
   "cell_type": "markdown",
   "metadata": {},
   "source": [
    "Calculate average and standard deviation for the variables according to each nest box. Note that for some variables, sd will be zero because the variables were measured at the population level (e.g., number_chicks_fledged_from_rear_nest)"
   ]
  },
  {
   "cell_type": "code",
   "execution_count": 58,
   "metadata": {},
   "outputs": [],
   "source": [
    "pop_data=pop_data %>% \n",
    "  group_by(rear_Box, rear_area) %>% \n",
    "  summarise_all(.funs = list(Mean= ~ mean(x=.),\n",
    "                             Sd= ~sd (x=.)))"
   ]
  },
  {
   "cell_type": "markdown",
   "metadata": {},
   "source": [
    "Explore the correlation between:\n",
    "\n",
    "* Number of live chicks in the nest at day 14 after hatching (d14_rear_nest_brood_size) and the number of chicks in nest of rearing immediately following experimental chick removals and additions (rear_Cs_at_start_of_rearing). These two variables are proxies for the number of chicks in the nests. \n",
    "* Tarsus average length (mm) and average mass of chicks (g) at day 14. These two variables are proxies for the average growth of chicks.   "
   ]
  },
  {
   "cell_type": "code",
   "execution_count": 63,
   "metadata": {},
   "outputs": [
    {
     "data": {
      "image/png": "[encoded data removed]",
      "text/plain": [
       "Plot with title \"Cor= 0.67 , p-value < 0.001\""
      ]
     },
     "metadata": {
      "image/png": {
       "height": 300,
       "width": 600
      }
     },
     "output_type": "display_data"
    }
   ],
   "source": [
    "options(repr.plot.width=10, repr.plot.height=5)\n",
    "par (mfrow=c(1,2))\n",
    "cor_test1=cor.test (pop_data$d14_rear_nest_brood_size_Mean,\n",
    "                    pop_data$rear_Cs_at_start_of_rearing_Mean)\n",
    "\n",
    "plot(d14_rear_nest_brood_size_Mean~rear_Cs_at_start_of_rearing_Mean,\n",
    "     data=pop_data,main=paste('Cor=' ,round(cor_test1$estimate,2), \n",
    "                              \", p-value\", ifelse(cor_test1$p.value<0.001,\n",
    "                                                  \"< 0.001\",round(cor_test1$p.value,3))),\n",
    "    ylab= \"Number of chicks in the nest at day 14\",\n",
    "    xlab= \"Number of chicks in the nest at day 0\",\n",
    "    cex.axis=1.1, cex.lab=1.3,cex.main=1.3,\n",
    "    pch=16, col=rgb(red=0.2, green=0.2, blue=1.0, alpha=0.2))\n",
    "\n",
    "cor_test2=cor.test (pop_data$day_14_tarsus_length_Mean,\n",
    "                    pop_data$day_14_weight_Mean)\n",
    "\n",
    "plot(pop_data$day_14_tarsus_length_Mean~pop_data$day_14_weight_Mean,\n",
    "     data=pop_data,main=paste('Cor=' ,round(cor_test2$estimate,2), \n",
    "                              \", p-value\", ifelse(cor_test2$p.value<0.001,\n",
    "                                                  \"< 0.001\",round(cor_test2$p.value,3))),\n",
    "    ylab=\" Tarsus average length (mm)\",\n",
    "    xlab=\"Average mass of chicks (g)\",\n",
    "    cex.axis=1.1, cex.lab=1.3,cex.main=1.3,\n",
    "    pch=16, col=rgb(red=0.2, green=0.2, blue=1.0, alpha=0.2))"
   ]
  },
  {
   "cell_type": "markdown",
   "metadata": {},
   "source": [
    "Both pair of variables are strongly correlated. In order to avoid multicolinearity in my analysis, I will use:\n",
    "* The number of chicks in nest of rearing immediately following experimental chick removals and additions (rear_Cs_at_start_of_rearing) as a single proxy for intraspecific competition.  \n",
    "* Mass of chicks at day 14 (day_14_weight_Mean) as a single proxy for chicks growth. "
   ]
  },
  {
   "cell_type": "code",
   "execution_count": 22,
   "metadata": {},
   "outputs": [],
   "source": [
    "pop_data= subset(pop_data, select=-c(d14_rear_nest_brood_size_Mean,\n",
    "                                     day_14_tarsus_length_Mean))\n",
    "pop_data= na.omit(pop_data) # Remove NAs"
   ]
  },
  {
   "cell_type": "markdown",
   "metadata": {},
   "source": [
    "Convert some variable into integers and calculate the coefficient of variance of chicks' mass"
   ]
  },
  {
   "cell_type": "code",
   "execution_count": 23,
   "metadata": {},
   "outputs": [],
   "source": [
    "pop_data$number_chicks_fledged_from_rear_nest=as.integer(pop_data$number_chicks_fledged_from_rear_nest_Mean)\n",
    "pop_data$rear_Cs_at_start_of_rearing=as.integer(pop_data$rear_Cs_at_start_of_rearing_Mean)\n",
    "pop_data$day_14_weight_CV= (pop_data$day_14_weight_Sd/pop_data$day_14_weight_Mean)"
   ]
  },
  {
   "cell_type": "markdown",
   "metadata": {},
   "source": [
    "Now, I'm going to model the influence of the number of chicks in the nests on the response variables: average growth, coefficient variance of average growth, and chicks survivorship. I'm going to conduct univariate models. For each response variable, two models will be conducted: one with a single exploratory variable(the number of chicks in the nests), and another with one exploratory variable (the number of chicks in the nests) and two influential co-variables (rear area and the date of the first egg was laid)."
   ]
  },
  {
   "cell_type": "code",
   "execution_count": 24,
   "metadata": {},
   "outputs": [
    {
     "data": {
      "text/plain": [
       "\n",
       "Call:\n",
       "lm(formula = day_14_weight_Mean ~ rear_Cs_at_start_of_rearing, \n",
       "    data = pop_data)\n",
       "\n",
       "Residuals:\n",
       "    Min      1Q  Median      3Q     Max \n",
       "-2.7336 -0.4292  0.1907  0.5987  1.5074 \n",
       "\n",
       "Coefficients:\n",
       "                            Estimate Std. Error t value Pr(>|t|)    \n",
       "(Intercept)                 11.69309    0.14878   78.59   <2e-16 ***\n",
       "rear_Cs_at_start_of_rearing -0.14795    0.01451  -10.20   <2e-16 ***\n",
       "---\n",
       "Signif. codes:  0 '***' 0.001 '**' 0.01 '*' 0.05 '.' 0.1 ' ' 1\n",
       "\n",
       "Residual standard error: 0.8512 on 286 degrees of freedom\n",
       "Multiple R-squared:  0.2666,\tAdjusted R-squared:  0.264 \n",
       "F-statistic:   104 on 1 and 286 DF,  p-value: < 2.2e-16\n"
      ]
     },
     "metadata": {},
     "output_type": "display_data"
    }
   ],
   "source": [
    "# Average growth model - without co-variables\n",
    "Model_mean_growth=lm (day_14_weight_Mean~rear_Cs_at_start_of_rearing,\n",
    "                      data=pop_data)\n",
    "(Summary_MMeangrowth=summary(Model_mean_growth))"
   ]
  },
  {
   "cell_type": "code",
   "execution_count": 25,
   "metadata": {},
   "outputs": [
    {
     "data": {
      "text/plain": [
       "\n",
       "Call:\n",
       "lm(formula = day_14_weight_Mean ~ rear_Cs_at_start_of_rearing + \n",
       "    rear_area + rear_nest_LD_Mean, data = pop_data)\n",
       "\n",
       "Residuals:\n",
       "     Min       1Q   Median       3Q      Max \n",
       "-2.56056 -0.43994  0.08043  0.54238  1.41939 \n",
       "\n",
       "Coefficients:\n",
       "                             Estimate Std. Error t value Pr(>|t|)    \n",
       "(Intercept)                 12.198379   0.208007  58.644  < 2e-16 ***\n",
       "rear_Cs_at_start_of_rearing -0.177285   0.014462 -12.259  < 2e-16 ***\n",
       "rear_areaC                   0.195125   0.163011   1.197 0.232329    \n",
       "rear_areaCP                  0.296787   0.205605   1.443 0.150015    \n",
       "rear_areaE                   0.794289   0.213590   3.719 0.000242 ***\n",
       "rear_areaMP                  0.204403   0.179060   1.142 0.254633    \n",
       "rear_areaO                   0.412506   0.154448   2.671 0.008014 ** \n",
       "rear_areaP                   0.432071   0.300901   1.436 0.152152    \n",
       "rear_areaSW                  0.174040   0.170333   1.022 0.307784    \n",
       "rear_areaW                   0.721884   0.183982   3.924 0.000110 ***\n",
       "rear_nest_LD_Mean           -0.029005   0.005997  -4.837 2.19e-06 ***\n",
       "---\n",
       "Signif. codes:  0 '***' 0.001 '**' 0.01 '*' 0.05 '.' 0.1 ' ' 1\n",
       "\n",
       "Residual standard error: 0.799 on 277 degrees of freedom\n",
       "Multiple R-squared:  0.3742,\tAdjusted R-squared:  0.3516 \n",
       "F-statistic: 16.56 on 10 and 277 DF,  p-value: < 2.2e-16\n"
      ]
     },
     "metadata": {},
     "output_type": "display_data"
    }
   ],
   "source": [
    "# Average growth model - with co-variables\n",
    "Model_mean_growth_cov=lm (day_14_weight_Mean~rear_Cs_at_start_of_rearing+\n",
    "                            rear_area+rear_nest_LD_Mean,\n",
    "                      data=pop_data)\n",
    "(Summary_MMeangrowth_cov=summary(Model_mean_growth_cov))"
   ]
  },
  {
   "cell_type": "code",
   "execution_count": 26,
   "metadata": {},
   "outputs": [
    {
     "data": {
      "text/plain": [
       "\n",
       "Call:\n",
       "lm(formula = day_14_weight_CV ~ rear_Cs_at_start_of_rearing, \n",
       "    data = pop_data)\n",
       "\n",
       "Residuals:\n",
       "      Min        1Q    Median        3Q       Max \n",
       "-0.058513 -0.021160 -0.006877  0.010361  0.215143 \n",
       "\n",
       "Coefficients:\n",
       "                             Estimate Std. Error t value Pr(>|t|)    \n",
       "(Intercept)                 0.0342913  0.0058081   5.904 1.00e-08 ***\n",
       "rear_Cs_at_start_of_rearing 0.0035607  0.0005665   6.286 1.22e-09 ***\n",
       "---\n",
       "Signif. codes:  0 '***' 0.001 '**' 0.01 '*' 0.05 '.' 0.1 ' ' 1\n",
       "\n",
       "Residual standard error: 0.03323 on 286 degrees of freedom\n",
       "Multiple R-squared:  0.1214,\tAdjusted R-squared:  0.1183 \n",
       "F-statistic: 39.51 on 1 and 286 DF,  p-value: 1.215e-09\n"
      ]
     },
     "metadata": {},
     "output_type": "display_data"
    }
   ],
   "source": [
    "#Growth variation model - without co-variables\n",
    "Model_CV_growth=lm (day_14_weight_CV~rear_Cs_at_start_of_rearing,\n",
    "                    data=pop_data)\n",
    "(Summary_MCVgrowth=summary(Model_CV_growth))"
   ]
  },
  {
   "cell_type": "code",
   "execution_count": 27,
   "metadata": {},
   "outputs": [
    {
     "data": {
      "text/plain": [
       "\n",
       "Call:\n",
       "lm(formula = day_14_weight_CV ~ rear_Cs_at_start_of_rearing + \n",
       "    rear_area + rear_nest_LD_Mean, data = pop_data)\n",
       "\n",
       "Residuals:\n",
       "      Min        1Q    Median        3Q       Max \n",
       "-0.053169 -0.021353 -0.005527  0.011641  0.205729 \n",
       "\n",
       "Coefficients:\n",
       "                              Estimate Std. Error t value Pr(>|t|)    \n",
       "(Intercept)                  0.0246935  0.0085482   2.889  0.00417 ** \n",
       "rear_Cs_at_start_of_rearing  0.0040808  0.0005943   6.866 4.33e-11 ***\n",
       "rear_areaC                   0.0043442  0.0066991   0.648  0.51721    \n",
       "rear_areaCP                 -0.0047196  0.0084495  -0.559  0.57691    \n",
       "rear_areaE                  -0.0239446  0.0087777  -2.728  0.00678 ** \n",
       "rear_areaMP                 -0.0008386  0.0073586  -0.114  0.90935    \n",
       "rear_areaO                  -0.0085358  0.0063472  -1.345  0.17978    \n",
       "rear_areaP                   0.0020569  0.0123658   0.166  0.86801    \n",
       "rear_areaSW                 -0.0024409  0.0070000  -0.349  0.72757    \n",
       "rear_areaW                  -0.0120200  0.0075609  -1.590  0.11303    \n",
       "rear_nest_LD_Mean            0.0004950  0.0002464   2.009  0.04554 *  \n",
       "---\n",
       "Signif. codes:  0 '***' 0.001 '**' 0.01 '*' 0.05 '.' 0.1 ' ' 1\n",
       "\n",
       "Residual standard error: 0.03284 on 277 degrees of freedom\n",
       "Multiple R-squared:  0.1692,\tAdjusted R-squared:  0.1392 \n",
       "F-statistic:  5.64 on 10 and 277 DF,  p-value: 1.113e-07\n"
      ]
     },
     "metadata": {},
     "output_type": "display_data"
    }
   ],
   "source": [
    "#Growth variation model - with co-variables\n",
    "Model_CV_growth_cov=lm (day_14_weight_CV~rear_Cs_at_start_of_rearing+\n",
    "                            rear_area+rear_nest_LD_Mean,\n",
    "                          data=pop_data)\n",
    "(Summary_MCVgrowth_cov=summary(Model_CV_growth_cov))"
   ]
  },
  {
   "cell_type": "code",
   "execution_count": 28,
   "metadata": {},
   "outputs": [
    {
     "data": {
      "text/html": [
       "'In-sample R2 = 0.0263927258224279'"
      ],
      "text/latex": [
       "'In-sample R2 = 0.0263927258224279'"
      ],
      "text/markdown": [
       "'In-sample R2 = 0.0263927258224279'"
      ],
      "text/plain": [
       "[1] \"In-sample R2 = 0.0263927258224279\""
      ]
     },
     "metadata": {},
     "output_type": "display_data"
    },
    {
     "data": {
      "text/plain": [
       "\n",
       "Call:\n",
       "glm(formula = cbind(number_chicks_fledged_from_rear_nest, rear_Cs_at_start_of_rearing) ~ \n",
       "    rear_Cs_at_start_of_rearing, family = \"binomial\", data = pop_data)\n",
       "\n",
       "Deviance Residuals: \n",
       "    Min       1Q   Median       3Q      Max  \n",
       "-4.0689  -0.0988   0.1431   0.2807   0.7716  \n",
       "\n",
       "Coefficients:\n",
       "                             Estimate Std. Error z value Pr(>|z|)  \n",
       "(Intercept)                  0.016856   0.091781   0.184   0.8543  \n",
       "rear_Cs_at_start_of_rearing -0.016582   0.008106  -2.046   0.0408 *\n",
       "---\n",
       "Signif. codes:  0 '***' 0.001 '**' 0.01 '*' 0.05 '.' 0.1 ' ' 1\n",
       "\n",
       "(Dispersion parameter for binomial family taken to be 1)\n",
       "\n",
       "    Null deviance: 158.70  on 287  degrees of freedom\n",
       "Residual deviance: 154.51  on 286  degrees of freedom\n",
       "AIC: 1086.9\n",
       "\n",
       "Number of Fisher Scoring iterations: 3\n"
      ]
     },
     "metadata": {},
     "output_type": "display_data"
    }
   ],
   "source": [
    "#Survival Model - Without co-variables\n",
    "Model_mean_Surv= glm (cbind(number_chicks_fledged_from_rear_nest,\n",
    "                            rear_Cs_at_start_of_rearing)~\n",
    "                      rear_Cs_at_start_of_rearing,\n",
    "                      data=pop_data,family=\"binomial\")\n",
    "paste(\"In-sample R2 =\", \n",
    "(1 - (Model_mean_Surv$deviance/Model_mean_Surv$null.deviance))) \n",
    "(Summary_MSurv=summary(Model_mean_Surv))"
   ]
  },
  {
   "cell_type": "code",
   "execution_count": 29,
   "metadata": {},
   "outputs": [
    {
     "data": {
      "text/html": [
       "'In-sample R2 = 0.0484663323243457'"
      ],
      "text/latex": [
       "'In-sample R2 = 0.0484663323243457'"
      ],
      "text/markdown": [
       "'In-sample R2 = 0.0484663323243457'"
      ],
      "text/plain": [
       "[1] \"In-sample R2 = 0.0484663323243457\""
      ]
     },
     "metadata": {},
     "output_type": "display_data"
    },
    {
     "data": {
      "text/plain": [
       "\n",
       "Call:\n",
       "glm(formula = cbind(number_chicks_fledged_from_rear_nest, rear_Cs_at_start_of_rearing) ~ \n",
       "    rear_Cs_at_start_of_rearing + rear_area + rear_nest_LD_Mean, \n",
       "    family = \"binomial\", data = pop_data)\n",
       "\n",
       "Deviance Residuals: \n",
       "    Min       1Q   Median       3Q      Max  \n",
       "-4.0265  -0.1097   0.1307   0.2745   0.8892  \n",
       "\n",
       "Coefficients:\n",
       "                             Estimate Std. Error z value Pr(>|z|)  \n",
       "(Intercept)                  0.067605   0.132059   0.512   0.6087  \n",
       "rear_Cs_at_start_of_rearing -0.020870   0.008572  -2.435   0.0149 *\n",
       "rear_areaC                   0.087367   0.096083   0.909   0.3632  \n",
       "rear_areaCP                  0.080725   0.129610   0.623   0.5334  \n",
       "rear_areaE                   0.114763   0.120664   0.951   0.3416  \n",
       "rear_areaMP                  0.074146   0.108325   0.684   0.4937  \n",
       "rear_areaO                   0.084328   0.093439   0.902   0.3668  \n",
       "rear_areaP                   0.125516   0.171133   0.733   0.4633  \n",
       "rear_areaSW                  0.014338   0.105899   0.135   0.8923  \n",
       "rear_areaW                   0.097697   0.108645   0.899   0.3685  \n",
       "rear_nest_LD_Mean           -0.004091   0.003645  -1.122   0.2617  \n",
       "---\n",
       "Signif. codes:  0 '***' 0.001 '**' 0.01 '*' 0.05 '.' 0.1 ' ' 1\n",
       "\n",
       "(Dispersion parameter for binomial family taken to be 1)\n",
       "\n",
       "    Null deviance: 158.7  on 287  degrees of freedom\n",
       "Residual deviance: 151.0  on 277  degrees of freedom\n",
       "AIC: 1101.4\n",
       "\n",
       "Number of Fisher Scoring iterations: 4\n"
      ]
     },
     "metadata": {},
     "output_type": "display_data"
    }
   ],
   "source": [
    "#Survival Model - With co-variables\n",
    "Model_mean_Surv_cov=glm (cbind(number_chicks_fledged_from_rear_nest,\n",
    "                               rear_Cs_at_start_of_rearing)~\n",
    "                           rear_Cs_at_start_of_rearing+\n",
    "                           rear_area+rear_nest_LD_Mean,\n",
    "                         data=pop_data,family=\"binomial\")\n",
    "paste(\"In-sample R2 =\",\n",
    "(1 - (Model_mean_Surv_cov$deviance/ Model_mean_Surv_cov$null.deviance))) \n",
    "(Summary_MSurv_cov=summary(Model_mean_Surv_cov))"
   ]
  },
  {
   "cell_type": "markdown",
   "metadata": {},
   "source": [
    "Visualize the effect of the number of chicks in the nests on our response variables according to the models created. "
   ]
  },
  {
   "cell_type": "code",
   "execution_count": 49,
   "metadata": {},
   "outputs": [
    {
     "data": {
      "image/png": "[encoded data removed]",
      "text/plain": [
       "Plot with title \"Model with co-variables, Slope = -0.021 , p-value = 0.015\""
      ]
     },
     "metadata": {
      "image/png": {
       "height": 900,
       "width": 600
      }
     },
     "output_type": "display_data"
    }
   ],
   "source": [
    "options(repr.plot.width=10, repr.plot.height=15)\n",
    "par(mfrow=c(3,2))\n",
    "\n",
    "# Average growth models\n",
    "visreg(Model_mean_growth, xlab=\"Number of live chicks in the nest\", \n",
    "       ylab=\"Average chick's mass (g) at day 14\",\n",
    "       cex.axis=1.2, cex.lab=1.5,cex.main=1.5,points=list(cex=1.6, pch=20),\n",
    "       main=paste(\"Model without co-variables,\",\n",
    "                  \"Slope =\", round(Summary_MMeangrowth$coefficients[2,1],3),\n",
    "                  \", p-value\", ifelse(Summary_MMeangrowth$coefficients[2,4]<0.001,\n",
    "                                      \"< 0.001\",paste(\"=\",round(Summary_MMeangrowth$coefficients[2,4],3))))\n",
    "       ) \n",
    "\n",
    "\n",
    "\n",
    "visreg(Model_mean_growth_cov,xvar=\"rear_Cs_at_start_of_rearing\", \n",
    "       xlab=\"Number of live chicks in the nest\", \n",
    "       ylab=\"Average chick's mass (g) at day 14\",\n",
    "       cex.axis=1.2, cex.lab=1.5,cex.main=1.5,points=list(cex=1.6, pch=20),\n",
    "       main=paste(\"Model with co-variables,\",\n",
    "                  \"Slope =\", round(Summary_MMeangrowth_cov$coefficients[2,1],3),\n",
    "                  \", p-value\", ifelse(Summary_MMeangrowth_cov$coefficients[2,4]<0.001,\n",
    "                                      \"< 0.001\",paste(\"=\",round(Summary_MMeangrowth_cov$coefficients[2,4],3))))\n",
    "       )\n",
    "\n",
    "# Growth variation models\n",
    "visreg(Model_CV_growth, xlab=\"Number of live chicks in the nest\", \n",
    "       ylab=\"CV of chicks' mass (g) at day 14\",\n",
    "       cex.axis=1.2, cex.lab=1.5,cex.main=1.5,points=list(cex=1.6, pch=20),\n",
    "       main=paste(\"Model without co-variables,\",\n",
    "                  \"Slope =\", round(Summary_MCVgrowth$coefficients[2,1],3),\n",
    "                  \", p-value\", ifelse(Summary_MCVgrowth$coefficients[2,4]<0.001,\n",
    "                                      \"< 0.001\",paste(\"=\",round(Summary_MCVgrowth$coefficients[2,4],3))))\n",
    ")\n",
    "\n",
    "visreg(Model_CV_growth_cov,xvar=\"rear_Cs_at_start_of_rearing\", \n",
    "       xlab=\"Number of live chicks in the nest\", \n",
    "       ylab=\"CV of chick's mass (g) at day 14\",\n",
    "       cex.axis=1.2, cex.lab=1.5,cex.main=1.5,points=list(cex=1.6, pch=20),\n",
    "       main=paste(\"Model with co-variables,\",\n",
    "                  \"Slope =\", round(Summary_MCVgrowth_cov$coefficients[2,1],3),\n",
    "                  \", p-value\", ifelse(Summary_MCVgrowth_cov$coefficients[2,4]<0.001,\n",
    "                                      \"< 0.001\",paste(\"=\",round(Summary_MCVgrowth_cov$coefficients[2,4],3))))\n",
    "       )\n",
    "\n",
    "# Survival models\n",
    "visreg(Model_mean_Surv,scale=\"response\",rug=2,ylab=\"\",\n",
    "       xlab=\"Number of live chicks in the nest\",\n",
    "       ylab=\"Pr (number of chicks that survived to leave the nest)\",\n",
    "       cex.axis=1.2, cex.lab=1.5,cex.main=1.5,points=list(cex=1.6, pch=20),\n",
    "       main=paste(\"Model with co-variables,\",\n",
    "                  \"Slope =\", round(Summary_MSurv$coefficients[2,1],3),\n",
    "                  \", p-value\", ifelse(Summary_MSurv$coefficients[2,4]<0.001,\n",
    "                                      \"< 0.001\",paste(\"=\",round(Summary_MSurv$coefficients[2,4],3))))\n",
    "       )\n",
    "\n",
    "visreg(Model_mean_Surv_cov,scale=\"response\",rug=2,\n",
    "       xvar=\"rear_Cs_at_start_of_rearing\",\n",
    "       xlab=\"Number of live chicks in the nest\",\n",
    "       ylab=\"Pr (number of chicks that survived to leave the nest)\",\n",
    "       cex.axis=1.2, cex.lab=1.5,cex.main=1.5,points=list(cex=1.6, pch=20),\n",
    "       main=paste(\"Model with co-variables,\",\n",
    "                  \"Slope =\", round(Summary_MSurv_cov$coefficients[2,1],3),\n",
    "                  \", p-value\", ifelse(Summary_MSurv_cov$coefficients[2,4]<0.001,\n",
    "                                      \"< 0.001\",paste(\"=\",round(Summary_MSurv_cov$coefficients[2,4],3))))\n",
    "                  )"
   ]
  },
  {
   "cell_type": "markdown",
   "metadata": {},
   "source": [
    "These results indicate that intraspecific competition has a significant effect on the growth (average and variation) and survivorship of nestling blue tits. These effects were still significant after accounting for potential confounding variables related to environmental conditions. However, it should be highlighted that the relationship among the variables is usually weak, especially for growth variance and survivorship."
   ]
  }
 ],
 "metadata": {
  "kernelspec": {
   "display_name": "R",
   "language": "R",
   "name": "ir"
  },
  "language_info": {
   "codemirror_mode": "r",
   "file_extension": ".r",
   "mimetype": "text/x-r-source",
   "name": "R",
   "pygments_lexer": "r",
   "version": "3.6.1"
  }
 },
 "nbformat": 4,
 "nbformat_minor": 4
}
