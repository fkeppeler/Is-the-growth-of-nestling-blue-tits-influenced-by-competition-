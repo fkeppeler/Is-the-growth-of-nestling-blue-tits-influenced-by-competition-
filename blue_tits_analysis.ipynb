{
 "cells": [
  {
   "cell_type": "markdown",
   "metadata": {},
   "source": [
    "### **To what extent is the growth of nestling blue tits (Cyanistes caeruleus) influenced by competition with siblings?**\n",
    "#### Project - *Same data, different analysts: variation in effect sizes due to analytical decisions in ecology and evolutionary biology*"
   ]
  },
  {
   "cell_type": "markdown",
   "metadata": {},
   "source": [
    "Libraries"
   ]
  },
  {
   "cell_type": "code",
   "execution_count": 17,
   "metadata": {},
   "outputs": [],
   "source": [
    "require (dplyr)\n",
    "require (visreg)\n",
    "require (lme4)\n",
    "require (sjPlot)\n",
    "require (ggplot2)\n",
    "require (cowplot)\n",
    "require (MuMIn)"
   ]
  },
  {
   "cell_type": "markdown",
   "metadata": {},
   "source": [
    "Functions"
   ]
  },
  {
   "cell_type": "code",
   "execution_count": 18,
   "metadata": {},
   "outputs": [],
   "source": [
    "as.num.fact <- function(x) {   #Convert numeric factor into real number\n",
    "  as.numeric(as.character(x))\n",
    "}"
   ]
  },
  {
   "cell_type": "markdown",
   "metadata": {},
   "source": [
    "Data"
   ]
  },
  {
   "cell_type": "code",
   "execution_count": 19,
   "metadata": {},
   "outputs": [
    {
     "data": {
      "text/html": [
       "<table>\n",
       "<caption>A data.frame: 6 × 38</caption>\n",
       "<thead>\n",
       "\t<tr><th></th><th scope=col>chick_ring_number</th><th scope=col>hatch_year</th><th scope=col>hatch_nest_breed_ID</th><th scope=col>hatch_Area</th><th scope=col>hatch_Box</th><th scope=col>hatch_mom_Ring</th><th scope=col>hatch_nest_dad_Ring</th><th scope=col>Extra.pair_paternity</th><th scope=col>Extra.pair_dad_ring</th><th scope=col>genetic_dad_ring_.WP_or_EP.</th><th scope=col>...</th><th scope=col>net_rearing_manipulation</th><th scope=col>rear_Cs_at_start_of_rearing</th><th scope=col>d14_rear_nest_brood_size</th><th scope=col>number_chicks_fledged_from_rear_nest</th><th scope=col>Date_of_day14</th><th scope=col>day_14_tarsus_length</th><th scope=col>day_14_weight</th><th scope=col>day14_measurer</th><th scope=col>chick_sex_molec</th><th scope=col>chick_survival_to_first_breed_season</th></tr>\n",
       "\t<tr><th></th><th scope=col>&lt;fct&gt;</th><th scope=col>&lt;int&gt;</th><th scope=col>&lt;int&gt;</th><th scope=col>&lt;fct&gt;</th><th scope=col>&lt;fct&gt;</th><th scope=col>&lt;fct&gt;</th><th scope=col>&lt;fct&gt;</th><th scope=col>&lt;fct&gt;</th><th scope=col>&lt;fct&gt;</th><th scope=col>&lt;fct&gt;</th><th scope=col>...</th><th scope=col>&lt;fct&gt;</th><th scope=col>&lt;fct&gt;</th><th scope=col>&lt;int&gt;</th><th scope=col>&lt;fct&gt;</th><th scope=col>&lt;int&gt;</th><th scope=col>&lt;dbl&gt;</th><th scope=col>&lt;dbl&gt;</th><th scope=col>&lt;int&gt;</th><th scope=col>&lt;fct&gt;</th><th scope=col>&lt;int&gt;</th></tr>\n",
       "</thead>\n",
       "<tbody>\n",
       "\t<tr><th scope=row>1</th><td>P804016</td><td>2001</td><td>201194</td><td>C</td><td>C130</td><td>P803008</td><td>P803007</td><td>1</td><td>.</td><td>.      </td><td>...</td><td>3</td><td>12</td><td>12</td><td>12</td><td>54</td><td>16.6</td><td> 8.0</td><td>1</td><td>2</td><td>0</td></tr>\n",
       "\t<tr><th scope=row>2</th><td>P804017</td><td>2001</td><td>201194</td><td>C</td><td>C130</td><td>P803008</td><td>P803007</td><td>2</td><td>.</td><td>P803007</td><td>...</td><td>3</td><td>12</td><td>12</td><td>12</td><td>54</td><td>15.5</td><td> 8.1</td><td>1</td><td>2</td><td>0</td></tr>\n",
       "\t<tr><th scope=row>3</th><td>P804018</td><td>2001</td><td>201167</td><td>C</td><td>C26 </td><td>P803005</td><td>P803006</td><td>2</td><td>.</td><td>P803006</td><td>...</td><td>3</td><td>12</td><td>12</td><td>12</td><td>54</td><td>17.1</td><td>10.3</td><td>1</td><td>2</td><td>0</td></tr>\n",
       "\t<tr><th scope=row>4</th><td>P804019</td><td>2001</td><td>201194</td><td>C</td><td>C130</td><td>P803008</td><td>P803007</td><td>2</td><td>.</td><td>P803007</td><td>...</td><td>3</td><td>12</td><td>12</td><td>12</td><td>54</td><td>17.6</td><td> 8.4</td><td>1</td><td>1</td><td>0</td></tr>\n",
       "\t<tr><th scope=row>5</th><td>P804020</td><td>2001</td><td>201167</td><td>C</td><td>C26 </td><td>P803005</td><td>P803006</td><td>2</td><td>.</td><td>P803006</td><td>...</td><td>3</td><td>12</td><td>12</td><td>12</td><td>54</td><td>16.3</td><td> 8.1</td><td>1</td><td>1</td><td>0</td></tr>\n",
       "\t<tr><th scope=row>6</th><td>P804021</td><td>2001</td><td>201194</td><td>C</td><td>C130</td><td>P803008</td><td>P803007</td><td>2</td><td>.</td><td>P803007</td><td>...</td><td>3</td><td>12</td><td>12</td><td>12</td><td>54</td><td>16.4</td><td> 8.4</td><td>1</td><td>2</td><td>0</td></tr>\n",
       "</tbody>\n",
       "</table>\n"
      ],
      "text/latex": [
       "A data.frame: 6 × 38\n",
       "\\begin{tabular}{r|lllllllllllllllllllll}\n",
       "  & chick\\_ring\\_number & hatch\\_year & hatch\\_nest\\_breed\\_ID & hatch\\_Area & hatch\\_Box & hatch\\_mom\\_Ring & hatch\\_nest\\_dad\\_Ring & Extra.pair\\_paternity & Extra.pair\\_dad\\_ring & genetic\\_dad\\_ring\\_.WP\\_or\\_EP. & ... & net\\_rearing\\_manipulation & rear\\_Cs\\_at\\_start\\_of\\_rearing & d14\\_rear\\_nest\\_brood\\_size & number\\_chicks\\_fledged\\_from\\_rear\\_nest & Date\\_of\\_day14 & day\\_14\\_tarsus\\_length & day\\_14\\_weight & day14\\_measurer & chick\\_sex\\_molec & chick\\_survival\\_to\\_first\\_breed\\_season\\\\\n",
       "  & <fct> & <int> & <int> & <fct> & <fct> & <fct> & <fct> & <fct> & <fct> & <fct> & ... & <fct> & <fct> & <int> & <fct> & <int> & <dbl> & <dbl> & <int> & <fct> & <int>\\\\\n",
       "\\hline\n",
       "\t1 & P804016 & 2001 & 201194 & C & C130 & P803008 & P803007 & 1 & . & .       & ... & 3 & 12 & 12 & 12 & 54 & 16.6 &  8.0 & 1 & 2 & 0\\\\\n",
       "\t2 & P804017 & 2001 & 201194 & C & C130 & P803008 & P803007 & 2 & . & P803007 & ... & 3 & 12 & 12 & 12 & 54 & 15.5 &  8.1 & 1 & 2 & 0\\\\\n",
       "\t3 & P804018 & 2001 & 201167 & C & C26  & P803005 & P803006 & 2 & . & P803006 & ... & 3 & 12 & 12 & 12 & 54 & 17.1 & 10.3 & 1 & 2 & 0\\\\\n",
       "\t4 & P804019 & 2001 & 201194 & C & C130 & P803008 & P803007 & 2 & . & P803007 & ... & 3 & 12 & 12 & 12 & 54 & 17.6 &  8.4 & 1 & 1 & 0\\\\\n",
       "\t5 & P804020 & 2001 & 201167 & C & C26  & P803005 & P803006 & 2 & . & P803006 & ... & 3 & 12 & 12 & 12 & 54 & 16.3 &  8.1 & 1 & 1 & 0\\\\\n",
       "\t6 & P804021 & 2001 & 201194 & C & C130 & P803008 & P803007 & 2 & . & P803007 & ... & 3 & 12 & 12 & 12 & 54 & 16.4 &  8.4 & 1 & 2 & 0\\\\\n",
       "\\end{tabular}\n"
      ],
      "text/markdown": [
       "\n",
       "A data.frame: 6 × 38\n",
       "\n",
       "| <!--/--> | chick_ring_number &lt;fct&gt; | hatch_year &lt;int&gt; | hatch_nest_breed_ID &lt;int&gt; | hatch_Area &lt;fct&gt; | hatch_Box &lt;fct&gt; | hatch_mom_Ring &lt;fct&gt; | hatch_nest_dad_Ring &lt;fct&gt; | Extra.pair_paternity &lt;fct&gt; | Extra.pair_dad_ring &lt;fct&gt; | genetic_dad_ring_.WP_or_EP. &lt;fct&gt; | ... ... | net_rearing_manipulation &lt;fct&gt; | rear_Cs_at_start_of_rearing &lt;fct&gt; | d14_rear_nest_brood_size &lt;int&gt; | number_chicks_fledged_from_rear_nest &lt;fct&gt; | Date_of_day14 &lt;int&gt; | day_14_tarsus_length &lt;dbl&gt; | day_14_weight &lt;dbl&gt; | day14_measurer &lt;int&gt; | chick_sex_molec &lt;fct&gt; | chick_survival_to_first_breed_season &lt;int&gt; |\n",
       "|---|---|---|---|---|---|---|---|---|---|---|---|---|---|---|---|---|---|---|---|---|---|\n",
       "| 1 | P804016 | 2001 | 201194 | C | C130 | P803008 | P803007 | 1 | . | .       | ... | 3 | 12 | 12 | 12 | 54 | 16.6 |  8.0 | 1 | 2 | 0 |\n",
       "| 2 | P804017 | 2001 | 201194 | C | C130 | P803008 | P803007 | 2 | . | P803007 | ... | 3 | 12 | 12 | 12 | 54 | 15.5 |  8.1 | 1 | 2 | 0 |\n",
       "| 3 | P804018 | 2001 | 201167 | C | C26  | P803005 | P803006 | 2 | . | P803006 | ... | 3 | 12 | 12 | 12 | 54 | 17.1 | 10.3 | 1 | 2 | 0 |\n",
       "| 4 | P804019 | 2001 | 201194 | C | C130 | P803008 | P803007 | 2 | . | P803007 | ... | 3 | 12 | 12 | 12 | 54 | 17.6 |  8.4 | 1 | 1 | 0 |\n",
       "| 5 | P804020 | 2001 | 201167 | C | C26  | P803005 | P803006 | 2 | . | P803006 | ... | 3 | 12 | 12 | 12 | 54 | 16.3 |  8.1 | 1 | 1 | 0 |\n",
       "| 6 | P804021 | 2001 | 201194 | C | C130 | P803008 | P803007 | 2 | . | P803007 | ... | 3 | 12 | 12 | 12 | 54 | 16.4 |  8.4 | 1 | 2 | 0 |\n",
       "\n"
      ],
      "text/plain": [
       "  chick_ring_number hatch_year hatch_nest_breed_ID hatch_Area hatch_Box\n",
       "1 P804016           2001       201194              C          C130     \n",
       "2 P804017           2001       201194              C          C130     \n",
       "3 P804018           2001       201167              C          C26      \n",
       "4 P804019           2001       201194              C          C130     \n",
       "5 P804020           2001       201167              C          C26      \n",
       "6 P804021           2001       201194              C          C130     \n",
       "  hatch_mom_Ring hatch_nest_dad_Ring Extra.pair_paternity Extra.pair_dad_ring\n",
       "1 P803008        P803007             1                    .                  \n",
       "2 P803008        P803007             2                    .                  \n",
       "3 P803005        P803006             2                    .                  \n",
       "4 P803008        P803007             2                    .                  \n",
       "5 P803005        P803006             2                    .                  \n",
       "6 P803008        P803007             2                    .                  \n",
       "  genetic_dad_ring_.WP_or_EP. ... net_rearing_manipulation\n",
       "1 .                           ... 3                       \n",
       "2 P803007                     ... 3                       \n",
       "3 P803006                     ... 3                       \n",
       "4 P803007                     ... 3                       \n",
       "5 P803006                     ... 3                       \n",
       "6 P803007                     ... 3                       \n",
       "  rear_Cs_at_start_of_rearing d14_rear_nest_brood_size\n",
       "1 12                          12                      \n",
       "2 12                          12                      \n",
       "3 12                          12                      \n",
       "4 12                          12                      \n",
       "5 12                          12                      \n",
       "6 12                          12                      \n",
       "  number_chicks_fledged_from_rear_nest Date_of_day14 day_14_tarsus_length\n",
       "1 12                                   54            16.6                \n",
       "2 12                                   54            15.5                \n",
       "3 12                                   54            17.1                \n",
       "4 12                                   54            17.6                \n",
       "5 12                                   54            16.3                \n",
       "6 12                                   54            16.4                \n",
       "  day_14_weight day14_measurer chick_sex_molec\n",
       "1  8.0          1              2              \n",
       "2  8.1          1              2              \n",
       "3 10.3          1              2              \n",
       "4  8.4          1              1              \n",
       "5  8.1          1              1              \n",
       "6  8.4          1              2              \n",
       "  chick_survival_to_first_breed_season\n",
       "1 0                                   \n",
       "2 0                                   \n",
       "3 0                                   \n",
       "4 0                                   \n",
       "5 0                                   \n",
       "6 0                                   "
      ]
     },
     "metadata": {},
     "output_type": "display_data"
    }
   ],
   "source": [
    "blue_tit_data=read.csv (\"blue_tit_data_updated_2020-04-18.csv\")\n",
    "head(blue_tit_data)"
   ]
  },
  {
   "cell_type": "markdown",
   "metadata": {},
   "source": [
    "Correct variables types"
   ]
  },
  {
   "cell_type": "code",
   "execution_count": 20,
   "metadata": {},
   "outputs": [
    {
     "name": "stderr",
     "output_type": "stream",
     "text": [
      "Warning message in as.num.fact(rear_Cs_at_start_of_rearing):\n",
      "\"NAs introduzidos por coerção\"\n",
      "Warning message in as.num.fact(number_chicks_fledged_from_rear_nest):\n",
      "\"NAs introduzidos por coerção\"\n",
      "Warning message in as.num.fact(rear_d0_rear_nest_brood_size):\n",
      "\"NAs introduzidos por coerção\"\n",
      "Warning message in as.num.fact(rear_nest_LD):\n",
      "\"NAs introduzidos por coerção\"\n",
      "Warning message in as.num.fact(net_rearing_manipulation):\n",
      "\"NAs introduzidos por coerção\"\n",
      "Warning message in as.num.fact(hatch_nest_CS):\n",
      "\"NAs introduzidos por coerção\"\n"
     ]
    }
   ],
   "source": [
    "blue_tit_data=within (blue_tit_data,{\n",
    "    rear_Cs_at_start_of_rearing = as.num.fact (rear_Cs_at_start_of_rearing)\n",
    "    number_chicks_fledged_from_rear_nest = as.num.fact(number_chicks_fledged_from_rear_nest)\n",
    "    rear_d0_rear_nest_brood_size = as.num.fact (rear_d0_rear_nest_brood_size)\n",
    "    d14_rear_nest_brood_size = as.num.fact (d14_rear_nest_brood_size)\n",
    "    rear_nest_LD = as.num.fact (rear_nest_LD)\n",
    "    number_chicks_fledged_from_rear_nest = as.num.fact(number_chicks_fledged_from_rear_nest)\n",
    "    day_14_tarsus_length = as.num.fact(day_14_tarsus_length)\n",
    "    day_14_weight = as.num.fact(day_14_weight)\n",
    "    net_rearing_manipulation= as.num.fact(net_rearing_manipulation)\n",
    "    hatch_nest_CS= as.num.fact(hatch_nest_CS)\n",
    "    rear_area=factor (rear_area)\n",
    "    rear_Box=factor (rear_Box)\n",
    "    home_or_away=factor(home_or_away)\n",
    "  })"
   ]
  },
  {
   "cell_type": "markdown",
   "metadata": {},
   "source": [
    "#### **Analysis at the \"population level\" (nests were considered sampling units)**\n",
    "#### *In this first approach, I'm going to test the influence of the number of live chicks in the nest (proxy for intraspecific competition) on the average and variance of chick's mass at day 14 (proxy for growth), and on the number of chicks that survived to leave the nest*"
   ]
  },
  {
   "cell_type": "markdown",
   "metadata": {},
   "source": [
    "Define a variable that separates manipulated and non-manipulated nests. \n",
    "Remove variables that we are not going to use for this approach"
   ]
  },
  {
   "cell_type": "code",
   "execution_count": 22,
   "metadata": {},
   "outputs": [],
   "source": [
    "blue_tit_data$Treatment=ifelse(blue_tit_data$rear_nest_trt=='5' |\n",
    "                               blue_tit_data$rear_nest_trt=='6', 'Yes','No')\n",
    "\n",
    "pop_data=blue_tit_data[,c(\"rear_Cs_at_start_of_rearing\",\n",
    "                          \"d14_rear_nest_brood_size\",\n",
    "                          \"number_chicks_fledged_from_rear_nest\",\n",
    "                          \"day_14_tarsus_length\",\n",
    "                          \"day_14_weight\",\n",
    "                          \"rear_nest_LD\",\n",
    "                          \"rear_area\",\n",
    "                          \"rear_Box\",\n",
    "                          \"Treatment\",\n",
    "                          \"net_rearing_manipulation\")]"
   ]
  },
  {
   "cell_type": "markdown",
   "metadata": {},
   "source": [
    "Calculate average and standard deviation for the variables according to each nest box. Note that for some variables, sd will be zero because the variables were measured at the population level (e.g., number_chicks_fledged_from_rear_nest)"
   ]
  },
  {
   "cell_type": "code",
   "execution_count": 23,
   "metadata": {},
   "outputs": [],
   "source": [
    "pop_data=pop_data %>% \n",
    "  group_by(rear_Box, rear_area,Treatment) %>% \n",
    "  summarise_all(.funs = list(Mean= ~ mean(x=.),\n",
    "                             Sd= ~sd (x=.)))"
   ]
  },
  {
   "cell_type": "markdown",
   "metadata": {},
   "source": [
    "Explore the correlation between:\n",
    "\n",
    "* Number of live chicks in the nest at day 14 after hatching (d14_rear_nest_brood_size) and the number of chicks in nest at day 0 (rear_Cs_at_start_of_rearing). These two variables are proxies for the number of chicks in the nests. \n",
    "* Number of live chicks in the nest at day 0 and the net change in chick number in nest where chick reared. These variables are expected to correlated given that net changes in chick number are directly related with the final number of chicks in the nest (i.e., if you remove chicks from the nest, the number of chicks of the nest is reduced and vice-versa). Non-manipulated nests will have NAs for net changes in chicks' number.\n",
    "* Tarsus average length (mm) and average mass of chicks (g) at day 14. These two variables are proxies for the average growth of chicks.   "
   ]
  },
  {
   "cell_type": "code",
   "execution_count": 24,
   "metadata": {},
   "outputs": [
    {
     "data": {
      "image/png": "[encoded data removed]",
      "text/plain": [
       "Plot with title \"Cor= 0.62 , p-value < 0.001\""
      ]
     },
     "metadata": {
      "image/png": {
       "height": 600,
       "width": 600
      }
     },
     "output_type": "display_data"
    }
   ],
   "source": [
    "options(repr.plot.width=10, repr.plot.height=10)\n",
    "par (mfrow=c(2,2))\n",
    "cor_test1=cor.test (pop_data$d14_rear_nest_brood_size_Mean,\n",
    "                    pop_data$rear_Cs_at_start_of_rearing_Mean)\n",
    "plot(d14_rear_nest_brood_size_Mean~rear_Cs_at_start_of_rearing_Mean,\n",
    "     data=pop_data,main=paste('Cor=' ,round(cor_test1$estimate,2), \n",
    "                              \", p-value\", ifelse(cor_test1$p.value<0.001,\n",
    "                                                  \"< 0.001\",round(cor_test1$p.value,3))),\n",
    "    ylab= \"Number of chicks in the nest at day 14\",\n",
    "    xlab= \"Number of chicks in the nest at day 0\",\n",
    "    cex.axis=1.1, cex.lab=1.3,cex.main=1.3,\n",
    "    pch=16, col=rgb(red=0.2, green=0.2, blue=1.0, alpha=0.2))\n",
    "\n",
    "cor_test2=cor.test (pop_data$rear_Cs_at_start_of_rearing_Mean,\n",
    "                    pop_data$net_rearing_manipulation_Mean)\n",
    "plot(rear_Cs_at_start_of_rearing_Mean~net_rearing_manipulation_Mean,\n",
    "     data=pop_data,main=paste('Cor=' ,round(cor_test2$estimate,2), \n",
    "                              \", p-value\", ifelse(cor_test2$p.value<0.001,\n",
    "                                                  \"< 0.001\",round(cor_test2$p.value,3))),\n",
    "    ylab= \"Number of chicks in the nest at day 0\",\n",
    "    xlab= \"Net rearing manipulation\",\n",
    "    cex.axis=1.1, cex.lab=1.3,cex.main=1.3,\n",
    "    pch=16, col=rgb(red=0.2, green=0.2, blue=1.0, alpha=0.2))\n",
    "\n",
    "cor_test3=cor.test (pop_data$day_14_tarsus_length_Mean,\n",
    "                    pop_data$day_14_weight_Mean)\n",
    "plot(pop_data$day_14_tarsus_length_Mean~pop_data$day_14_weight_Mean,\n",
    "     data=pop_data,main=paste('Cor=' ,round(cor_test3$estimate,2), \n",
    "                              \", p-value\", ifelse(cor_test3$p.value<0.001,\n",
    "                                                  \"< 0.001\",round(cor_test3$p.value,3))),\n",
    "    ylab=\" Tarsus average length (mm)\",\n",
    "    xlab=\"Average mass of chicks (g)\",\n",
    "    cex.axis=1.1, cex.lab=1.3,cex.main=1.3,\n",
    "    pch=16, col=rgb(red=0.2, green=0.2, blue=1.0, alpha=0.2))"
   ]
  },
  {
   "cell_type": "markdown",
   "metadata": {},
   "source": [
    "All pair of variables are strongly correlated. In order to avoid multicolinearity in my analysis, I will use:\n",
    "* The number of chicks in nest at day 0 (rear_Cs_at_start_of_rearing) as a single proxy for intraspecific competition.  \n",
    "* Mass of chicks at day 14 (day_14_weight_Mean) as a single proxy for chicks growth. "
   ]
  },
  {
   "cell_type": "code",
   "execution_count": 25,
   "metadata": {},
   "outputs": [],
   "source": [
    "pop_data= subset(pop_data, select=-c(d14_rear_nest_brood_size_Mean,\n",
    "                                     day_14_tarsus_length_Mean,\n",
    "                                     net_rearing_manipulation_Mean\n",
    "                                    ))\n",
    "pop_data= na.omit(pop_data) # Remove NAs"
   ]
  },
  {
   "cell_type": "markdown",
   "metadata": {},
   "source": [
    "Convert some variable into integers and calculate the coefficient of variance of chicks' mass"
   ]
  },
  {
   "cell_type": "code",
   "execution_count": 26,
   "metadata": {},
   "outputs": [],
   "source": [
    "pop_data$number_chicks_fledged_from_rear_nest=as.integer(pop_data$number_chicks_fledged_from_rear_nest_Mean)\n",
    "pop_data$rear_Cs_at_start_of_rearing=as.integer(pop_data$rear_Cs_at_start_of_rearing_Mean)\n",
    "pop_data$day_14_weight_CV= (pop_data$day_14_weight_Sd/pop_data$day_14_weight_Mean)"
   ]
  },
  {
   "cell_type": "markdown",
   "metadata": {},
   "source": [
    "Now, I'm going to model the influence of the number of chicks in the nests on the response variables: average growth, coefficient variance of average growth, and chicks survivorship. I'm going to conduct univariate models. For each response variable, two models will be conducted: one with a single exploratory variable(the number of chicks in the nests), and another with one exploratory variable (the number of chicks in the nests) and three co-variables (rear area,the date of the first egg was laid, and treatment [manipulated or non-manipulated])."
   ]
  },
  {
   "cell_type": "code",
   "execution_count": 27,
   "metadata": {},
   "outputs": [
    {
     "data": {
      "text/plain": [
       "\n",
       "Call:\n",
       "lm(formula = day_14_weight_Mean ~ rear_Cs_at_start_of_rearing, \n",
       "    data = pop_data)\n",
       "\n",
       "Residuals:\n",
       "    Min      1Q  Median      3Q     Max \n",
       "-3.1413 -0.4127  0.2123  0.6077  1.5231 \n",
       "\n",
       "Coefficients:\n",
       "                            Estimate Std. Error t value Pr(>|t|)    \n",
       "(Intercept)                 11.57604    0.13506  85.708   <2e-16 ***\n",
       "rear_Cs_at_start_of_rearing -0.13292    0.01346  -9.872   <2e-16 ***\n",
       "---\n",
       "Signif. codes:  0 '***' 0.001 '**' 0.01 '*' 0.05 '.' 0.1 ' ' 1\n",
       "\n",
       "Residual standard error: 0.8629 on 351 degrees of freedom\n",
       "Multiple R-squared:  0.2173,\tAdjusted R-squared:  0.2151 \n",
       "F-statistic: 97.45 on 1 and 351 DF,  p-value: < 2.2e-16\n"
      ]
     },
     "metadata": {},
     "output_type": "display_data"
    }
   ],
   "source": [
    "# Average growth model - without co-variables\n",
    "Model_mean_growth=lm (day_14_weight_Mean~rear_Cs_at_start_of_rearing,\n",
    "                      data=pop_data)\n",
    "(Summary_MMeangrowth=summary(Model_mean_growth))"
   ]
  },
  {
   "cell_type": "code",
   "execution_count": 28,
   "metadata": {},
   "outputs": [
    {
     "data": {
      "text/plain": [
       "\n",
       "Call:\n",
       "lm(formula = day_14_weight_Mean ~ rear_Cs_at_start_of_rearing + \n",
       "    rear_area + rear_nest_LD_Mean + Treatment, data = pop_data)\n",
       "\n",
       "Residuals:\n",
       "   Min     1Q Median     3Q    Max \n",
       "-2.770 -0.413  0.136  0.545  1.469 \n",
       "\n",
       "Coefficients:\n",
       "                             Estimate Std. Error t value Pr(>|t|)    \n",
       "(Intercept)                 12.258617   0.224431  54.621  < 2e-16 ***\n",
       "rear_Cs_at_start_of_rearing -0.158491   0.013621 -11.635  < 2e-16 ***\n",
       "rear_areaC                   0.126286   0.153849   0.821 0.412307    \n",
       "rear_areaCP                  0.323286   0.185914   1.739 0.082955 .  \n",
       "rear_areaE                   0.733059   0.196528   3.730 0.000224 ***\n",
       "rear_areaMP                  0.199921   0.160263   1.247 0.213087    \n",
       "rear_areaO                   0.425679   0.143323   2.970 0.003188 ** \n",
       "rear_areaP                   0.294863   0.288050   1.024 0.306725    \n",
       "rear_areaSW                  0.173640   0.157437   1.103 0.270840    \n",
       "rear_areaW                   0.699197   0.172636   4.050 6.34e-05 ***\n",
       "rear_nest_LD_Mean           -0.029272   0.005733  -5.106 5.49e-07 ***\n",
       "TreatmentYes                -0.224116   0.112781  -1.987 0.047702 *  \n",
       "---\n",
       "Signif. codes:  0 '***' 0.001 '**' 0.01 '*' 0.05 '.' 0.1 ' ' 1\n",
       "\n",
       "Residual standard error: 0.8124 on 341 degrees of freedom\n",
       "Multiple R-squared:  0.3259,\tAdjusted R-squared:  0.3042 \n",
       "F-statistic: 14.99 on 11 and 341 DF,  p-value: < 2.2e-16\n"
      ]
     },
     "metadata": {},
     "output_type": "display_data"
    }
   ],
   "source": [
    "# Average growth model - with co-variables\n",
    "Model_mean_growth_cov=lm (day_14_weight_Mean~rear_Cs_at_start_of_rearing+\n",
    "                            rear_area+rear_nest_LD_Mean+Treatment,\n",
    "                      data=pop_data)\n",
    "(Summary_MMeangrowth_cov=summary(Model_mean_growth_cov))"
   ]
  },
  {
   "cell_type": "code",
   "execution_count": 29,
   "metadata": {},
   "outputs": [
    {
     "data": {
      "text/plain": [
       "\n",
       "Call:\n",
       "lm(formula = day_14_weight_CV ~ rear_Cs_at_start_of_rearing, \n",
       "    data = pop_data)\n",
       "\n",
       "Residuals:\n",
       "      Min        1Q    Median        3Q       Max \n",
       "-0.052893 -0.021724 -0.007455  0.010642  0.215853 \n",
       "\n",
       "Coefficients:\n",
       "                             Estimate Std. Error t value Pr(>|t|)    \n",
       "(Intercept)                 0.0355514  0.0050728   7.008 1.24e-11 ***\n",
       "rear_Cs_at_start_of_rearing 0.0033144  0.0005057   6.554 2.00e-10 ***\n",
       "---\n",
       "Signif. codes:  0 '***' 0.001 '**' 0.01 '*' 0.05 '.' 0.1 ' ' 1\n",
       "\n",
       "Residual standard error: 0.03241 on 351 degrees of freedom\n",
       "Multiple R-squared:  0.109,\tAdjusted R-squared:  0.1065 \n",
       "F-statistic: 42.96 on 1 and 351 DF,  p-value: 2e-10\n"
      ]
     },
     "metadata": {},
     "output_type": "display_data"
    }
   ],
   "source": [
    "#Growth variation model - without co-variables\n",
    "Model_CV_growth=lm (day_14_weight_CV~rear_Cs_at_start_of_rearing,\n",
    "                    data=pop_data)\n",
    "(Summary_MCVgrowth=summary(Model_CV_growth))"
   ]
  },
  {
   "cell_type": "code",
   "execution_count": 30,
   "metadata": {},
   "outputs": [
    {
     "data": {
      "text/plain": [
       "\n",
       "Call:\n",
       "lm(formula = day_14_weight_CV ~ rear_Cs_at_start_of_rearing + \n",
       "    rear_area + rear_nest_LD_Mean + Treatment, data = pop_data)\n",
       "\n",
       "Residuals:\n",
       "      Min        1Q    Median        3Q       Max \n",
       "-0.056097 -0.020900 -0.006449  0.012310  0.204016 \n",
       "\n",
       "Coefficients:\n",
       "                              Estimate Std. Error t value Pr(>|t|)    \n",
       "(Intercept)                  0.0184219  0.0088368   2.085   0.0378 *  \n",
       "rear_Cs_at_start_of_rearing  0.0037449  0.0005363   6.982 1.53e-11 ***\n",
       "rear_areaC                   0.0042470  0.0060577   0.701   0.4837    \n",
       "rear_areaCP                 -0.0034952  0.0073203  -0.477   0.6333    \n",
       "rear_areaE                  -0.0195677  0.0077382  -2.529   0.0119 *  \n",
       "rear_areaMP                 -0.0018216  0.0063103  -0.289   0.7730    \n",
       "rear_areaO                  -0.0095082  0.0056433  -1.685   0.0929 .  \n",
       "rear_areaP                  -0.0022925  0.0113418  -0.202   0.8399    \n",
       "rear_areaSW                 -0.0053304  0.0061990  -0.860   0.3905    \n",
       "rear_areaW                  -0.0075401  0.0067974  -1.109   0.2681    \n",
       "rear_nest_LD_Mean            0.0005671  0.0002257   2.512   0.0125 *  \n",
       "TreatmentYes                 0.0085099  0.0044407   1.916   0.0562 .  \n",
       "---\n",
       "Signif. codes:  0 '***' 0.001 '**' 0.01 '*' 0.05 '.' 0.1 ' ' 1\n",
       "\n",
       "Residual standard error: 0.03199 on 341 degrees of freedom\n",
       "Multiple R-squared:  0.1567,\tAdjusted R-squared:  0.1295 \n",
       "F-statistic: 5.759 on 11 and 341 DF,  p-value: 1.51e-08\n"
      ]
     },
     "metadata": {},
     "output_type": "display_data"
    }
   ],
   "source": [
    "#Growth variation model - with co-variables\n",
    "Model_CV_growth_cov=lm (day_14_weight_CV~rear_Cs_at_start_of_rearing+\n",
    "                            rear_area+rear_nest_LD_Mean+Treatment,\n",
    "                          data=pop_data)\n",
    "(Summary_MCVgrowth_cov=summary(Model_CV_growth_cov))"
   ]
  },
  {
   "cell_type": "code",
   "execution_count": 31,
   "metadata": {},
   "outputs": [
    {
     "data": {
      "text/plain": [
       "\n",
       "Call:\n",
       "glm(formula = cbind(number_chicks_fledged_from_rear_nest, rear_Cs_at_start_of_rearing) ~ \n",
       "    rear_Cs_at_start_of_rearing, family = \"binomial\", data = pop_data)\n",
       "\n",
       "Deviance Residuals: \n",
       "    Min       1Q   Median       3Q      Max  \n",
       "-4.0837  -0.0914   0.1436   0.2734   0.7328  \n",
       "\n",
       "Coefficients:\n",
       "                             Estimate Std. Error z value Pr(>|z|)  \n",
       "(Intercept)                  0.009136   0.084654   0.108   0.9141  \n",
       "rear_Cs_at_start_of_rearing -0.015342   0.007633  -2.010   0.0444 *\n",
       "---\n",
       "Signif. codes:  0 '***' 0.001 '**' 0.01 '*' 0.05 '.' 0.1 ' ' 1\n",
       "\n",
       "(Dispersion parameter for binomial family taken to be 1)\n",
       "\n",
       "    Null deviance: 174.49  on 352  degrees of freedom\n",
       "Residual deviance: 170.45  on 351  degrees of freedom\n",
       "AIC: 1307.1\n",
       "\n",
       "Number of Fisher Scoring iterations: 3\n"
      ]
     },
     "metadata": {},
     "output_type": "display_data"
    },
    {
     "name": "stdout",
     "output_type": "stream",
     "text": [
      "In-sample R2 ="
     ]
    },
    {
     "data": {
      "text/html": [
       "0.02"
      ],
      "text/latex": [
       "0.02"
      ],
      "text/markdown": [
       "0.02"
      ],
      "text/plain": [
       "[1] 0.02"
      ]
     },
     "metadata": {},
     "output_type": "display_data"
    }
   ],
   "source": [
    "#Survival Model - Without co-variables\n",
    "Model_mean_Surv= glm (cbind(number_chicks_fledged_from_rear_nest,\n",
    "                            rear_Cs_at_start_of_rearing)~\n",
    "                      rear_Cs_at_start_of_rearing,\n",
    "                      data=pop_data,family=\"binomial\")\n",
    "(Summary_MSurv=summary(Model_mean_Surv))\n",
    "cat('In-sample R2 =')\n",
    "round (1 - (Model_mean_Surv$deviance/Model_mean_Surv$null.deviance),2) \n"
   ]
  },
  {
   "cell_type": "code",
   "execution_count": 32,
   "metadata": {},
   "outputs": [
    {
     "data": {
      "text/plain": [
       "\n",
       "Call:\n",
       "glm(formula = cbind(number_chicks_fledged_from_rear_nest, rear_Cs_at_start_of_rearing) ~ \n",
       "    rear_Cs_at_start_of_rearing + rear_area + rear_nest_LD_Mean + \n",
       "        Treatment, family = \"binomial\", data = pop_data)\n",
       "\n",
       "Deviance Residuals: \n",
       "    Min       1Q   Median       3Q      Max  \n",
       "-4.0224  -0.1185   0.1292   0.2627   0.8804  \n",
       "\n",
       "Coefficients:\n",
       "                             Estimate Std. Error z value Pr(>|z|)  \n",
       "(Intercept)                  0.093093   0.140579   0.662   0.5078  \n",
       "rear_Cs_at_start_of_rearing -0.018979   0.008187  -2.318   0.0204 *\n",
       "rear_areaC                   0.079277   0.090248   0.878   0.3797  \n",
       "rear_areaCP                  0.026155   0.118139   0.221   0.8248  \n",
       "rear_areaE                   0.110002   0.110895   0.992   0.3212  \n",
       "rear_areaMP                  0.070517   0.096478   0.731   0.4648  \n",
       "rear_areaO                   0.073184   0.085587   0.855   0.3925  \n",
       "rear_areaP                   0.061428   0.163442   0.376   0.7070  \n",
       "rear_areaSW                  0.001068   0.096593   0.011   0.9912  \n",
       "rear_areaW                   0.088415   0.101873   0.868   0.3855  \n",
       "rear_nest_LD_Mean           -0.003463   0.003440  -1.007   0.3141  \n",
       "TreatmentYes                -0.046380   0.068624  -0.676   0.4991  \n",
       "---\n",
       "Signif. codes:  0 '***' 0.001 '**' 0.01 '*' 0.05 '.' 0.1 ' ' 1\n",
       "\n",
       "(Dispersion parameter for binomial family taken to be 1)\n",
       "\n",
       "    Null deviance: 174.49  on 352  degrees of freedom\n",
       "Residual deviance: 166.63  on 341  degrees of freedom\n",
       "AIC: 1323.2\n",
       "\n",
       "Number of Fisher Scoring iterations: 4\n"
      ]
     },
     "metadata": {},
     "output_type": "display_data"
    },
    {
     "name": "stdout",
     "output_type": "stream",
     "text": [
      "In-sample R2 ="
     ]
    },
    {
     "data": {
      "text/html": [
       "0.05"
      ],
      "text/latex": [
       "0.05"
      ],
      "text/markdown": [
       "0.05"
      ],
      "text/plain": [
       "[1] 0.05"
      ]
     },
     "metadata": {},
     "output_type": "display_data"
    }
   ],
   "source": [
    "#Survival Model - With co-variables\n",
    "Model_mean_Surv_cov=glm (cbind(number_chicks_fledged_from_rear_nest,\n",
    "                               rear_Cs_at_start_of_rearing)~\n",
    "                           rear_Cs_at_start_of_rearing+\n",
    "                           rear_area+rear_nest_LD_Mean+Treatment,\n",
    "                         data=pop_data,family=\"binomial\")\n",
    "\n",
    "(Summary_MSurv_cov=summary(Model_mean_Surv_cov))\n",
    "cat('In-sample R2 =')\n",
    "round (1 - (Model_mean_Surv_cov$deviance/Model_mean_Surv_cov$null.deviance),2) \n"
   ]
  },
  {
   "cell_type": "markdown",
   "metadata": {},
   "source": [
    "Visualize the effect of the number of chicks in the nests on our response variables according to the models created. "
   ]
  },
  {
   "cell_type": "code",
   "execution_count": 33,
   "metadata": {},
   "outputs": [
    {
     "data": {
      "image/png": "[encoded data removed]",
      "text/plain": [
       "Plot with title \"Model with co-variables, Slope = -0.019 , p-value = 0.02\""
      ]
     },
     "metadata": {
      "image/png": {
       "height": 900,
       "width": 600
      }
     },
     "output_type": "display_data"
    }
   ],
   "source": [
    "options(repr.plot.width=10, repr.plot.height=15)\n",
    "par(mfrow=c(3,2))\n",
    "\n",
    "# Average growth models\n",
    "visreg(Model_mean_growth, xlab=\"Number of live chicks in the nest\", \n",
    "       ylab=\"Average chick's mass (g) at day 14\",\n",
    "       cex.axis=1.2, cex.lab=1.5,cex.main=1.5,points=list(cex=1.6, pch=20),\n",
    "       main=paste(\"Model without co-variables,\",\n",
    "                  \"Slope =\", round(Summary_MMeangrowth$coefficients[2,1],3),\n",
    "                  \", p-value\", ifelse(Summary_MMeangrowth$coefficients[2,4]<0.001,\n",
    "                                      \"< 0.001\",paste(\"=\",round(Summary_MMeangrowth$coefficients[2,4],3))))\n",
    "       ) \n",
    "\n",
    "\n",
    "\n",
    "visreg(Model_mean_growth_cov,xvar=\"rear_Cs_at_start_of_rearing\", \n",
    "       xlab=\"Number of live chicks in the nest\", \n",
    "       ylab=\"Average chick's mass (g) at day 14\",\n",
    "       cex.axis=1.2, cex.lab=1.5,cex.main=1.5,points=list(cex=1.6, pch=20),\n",
    "       main=paste(\"Model with co-variables,\",\n",
    "                  \"Slope =\", round(Summary_MMeangrowth_cov$coefficients[2,1],3),\n",
    "                  \", p-value\", ifelse(Summary_MMeangrowth_cov$coefficients[2,4]<0.001,\n",
    "                                      \"< 0.001\",paste(\"=\",round(Summary_MMeangrowth_cov$coefficients[2,4],3))))\n",
    "       )\n",
    "\n",
    "# Growth variation models\n",
    "visreg(Model_CV_growth, xlab=\"Number of live chicks in the nest\", \n",
    "       ylab=\"CV of chicks' mass (g) at day 14\",\n",
    "       cex.axis=1.2, cex.lab=1.5,cex.main=1.5,points=list(cex=1.6, pch=20),\n",
    "       main=paste(\"Model without co-variables,\",\n",
    "                  \"Slope =\", round(Summary_MCVgrowth$coefficients[2,1],3),\n",
    "                  \", p-value\", ifelse(Summary_MCVgrowth$coefficients[2,4]<0.001,\n",
    "                                      \"< 0.001\",paste(\"=\",round(Summary_MCVgrowth$coefficients[2,4],3))))\n",
    ")\n",
    "\n",
    "visreg(Model_CV_growth_cov,xvar=\"rear_Cs_at_start_of_rearing\", \n",
    "       xlab=\"Number of live chicks in the nest\", \n",
    "       ylab=\"CV of chick's mass (g) at day 14\",\n",
    "       cex.axis=1.2, cex.lab=1.5,cex.main=1.5,points=list(cex=1.6, pch=20),\n",
    "       main=paste(\"Model with co-variables,\",\n",
    "                  \"Slope =\", round(Summary_MCVgrowth_cov$coefficients[2,1],3),\n",
    "                  \", p-value\", ifelse(Summary_MCVgrowth_cov$coefficients[2,4]<0.001,\n",
    "                                      \"< 0.001\",paste(\"=\",round(Summary_MCVgrowth_cov$coefficients[2,4],3))))\n",
    "       )\n",
    "\n",
    "# Survival models\n",
    "visreg(Model_mean_Surv,scale=\"response\",rug=2,ylab=\"\",\n",
    "       xlab=\"Number of live chicks in the nest\",\n",
    "       ylab=\"Percentage of chicks that survived to leave the nest\",\n",
    "       cex.axis=1.2, cex.lab=1.5,cex.main=1.5,points=list(cex=1.6, pch=20),\n",
    "       main=paste(\"Model with co-variables,\",\n",
    "                  \"Slope =\", round(Summary_MSurv$coefficients[2,1],3),\n",
    "                  \", p-value\", ifelse(Summary_MSurv$coefficients[2,4]<0.001,\n",
    "                                      \"< 0.001\",paste(\"=\",round(Summary_MSurv$coefficients[2,4],3))))\n",
    "       )\n",
    "\n",
    "visreg(Model_mean_Surv_cov,scale=\"response\",rug=2,\n",
    "       xvar=\"rear_Cs_at_start_of_rearing\",\n",
    "       xlab=\"Number of live chicks in the nest\",\n",
    "       ylab=\"Percentage of chicks that survived to leave the nest)\",\n",
    "       cex.axis=1.2, cex.lab=1.5,cex.main=1.5,points=list(cex=1.6, pch=20),\n",
    "       main=paste(\"Model with co-variables,\",\n",
    "                  \"Slope =\", round(Summary_MSurv_cov$coefficients[2,1],3),\n",
    "                  \", p-value\", ifelse(Summary_MSurv_cov$coefficients[2,4]<0.001,\n",
    "                                      \"< 0.001\",paste(\"=\",round(Summary_MSurv_cov$coefficients[2,4],3))))\n",
    "                  )"
   ]
  },
  {
   "cell_type": "markdown",
   "metadata": {},
   "source": [
    "These results indicate that intraspecific competition has a significant effect on the growth (average and variation) and survivorship of nestling blue tits. These effects were still significant after accounting for potential confounding variables related to environmental conditions. However, it should be highlighted that the relationship among the variables is usually weak, especially for growth variance and survivorship."
   ]
  },
  {
   "cell_type": "markdown",
   "metadata": {},
   "source": [
    "#### **Analysis at the \"individual level\" (chicks were considered sampling units)**\n",
    "#### *In this second approach, I'm going to explore how clutch size and number of live chicks in the nest affect chick's mass at day 14 (a proxy for growth) and chick's survival to the first breeding season. For this analysis, I'm only going to use nests that were manipulated. This was necessary to tear apart the effects of clutch size (hatch_nest_CS) and the competition with other life chicks (net_rearing_manipulation). Clutch size reflects exploitative competition at early life stages, when the resources of the mother are divided into different eggs. On the other hand, number of live chicks in the nest (here manipulated experimentally) is related to interference competition for food that is brought to the nest by the father.*"
   ]
  },
  {
   "cell_type": "markdown",
   "metadata": {},
   "source": [
    "Subset data"
   ]
  },
  {
   "cell_type": "code",
   "execution_count": 36,
   "metadata": {},
   "outputs": [],
   "source": [
    "ind_data=subset(blue_tit_data, rear_nest_trt=='5' | rear_nest_trt=='6')"
   ]
  },
  {
   "cell_type": "markdown",
   "metadata": {},
   "source": [
    "Retain only variables that will be used in this approach."
   ]
  },
  {
   "cell_type": "code",
   "execution_count": 37,
   "metadata": {},
   "outputs": [],
   "source": [
    "ind_data=blue_tit_data[,c(\"chick_survival_to_first_breed_season\",\n",
    "                          \"day_14_weight\",\n",
    "                          \"rear_Cs_at_start_of_rearing\",\n",
    "                          \"hatch_nest_CS\",\n",
    "                          \"rear_Box\",\n",
    "                          \"hatch_Box\",\n",
    "                          \"net_rearing_manipulation\",\n",
    "                          \"rear_area\",\n",
    "                          \"rear_nest_LD\",\n",
    "                          \"home_or_away\"\n",
    "                          )]\n",
    "ind_data=na.omit(ind_data) # remove Nas"
   ]
  },
  {
   "cell_type": "markdown",
   "metadata": {},
   "source": [
    "Explore the correlation between our two main exploratory variables"
   ]
  },
  {
   "cell_type": "code",
   "execution_count": 38,
   "metadata": {},
   "outputs": [
    {
     "data": {
      "image/png": "[encoded data removed]",
      "text/plain": [
       "Plot with title \"Cor= 0.03 , p-value 0.067\""
      ]
     },
     "metadata": {
      "image/png": {
       "height": 300,
       "width": 300
      }
     },
     "output_type": "display_data"
    }
   ],
   "source": [
    "options(repr.plot.width=5, repr.plot.height=5)\n",
    "par (mfrow=c(1,1))\n",
    "cor_test4=cor.test (ind_data$net_rearing_manipulation,ind_data$hatch_nest_CS)\n",
    "plot (ind_data$net_rearing_manipulation~ind_data$hatch_nest_CS,\n",
    "      cex.axis=1.1, cex.lab=1.3,cex.main=1.3,\n",
    "      pch=16, col=rgb(red=0.2, green=0.2, blue=1.0, alpha=0.2),\n",
    "      ylab= \"Net rearing manipulation\",\n",
    "      xlab= \"Clutch size from which the chick hatched\",\n",
    "      main=paste('Cor=' ,round(cor_test4$estimate,2), \n",
    "                 \", p-value\", ifelse(cor_test4$p.value<0.001,\n",
    "                                     \"< 0.001\",round(cor_test4$p.value,3))))"
   ]
  },
  {
   "cell_type": "markdown",
   "metadata": {},
   "source": [
    "The correlation is weak and non-significant. So, we can proceed to our main analysis. For this individual approach, we are going to use (generalized) linear mixed models to explore variation in chicks’ weight and survival. This is necessary in order to incorporate the lack of independency between sample units (in this case, chicks). Individual chicks cannot be considered independent units because multiple chicks from the same nests were measured. For each response variable, two models will be conducted: one with two exploratory variable (net rearing manipulation and clutch size from which the chick hatched), and another with two exploratory variable (net rearing manipulation and clutch size from which the chick hatched and three co-variables (rear area, the date of the first egg was laid, and whether the chick was reared in the nest in which it hatched or had been moved by an experimenter to another nest). In all cases, rear nest box ID will be considered as a random variable (random intercept)."
   ]
  },
  {
   "cell_type": "code",
   "execution_count": 39,
   "metadata": {},
   "outputs": [
    {
     "data": {
      "text/plain": [
       "Linear mixed model fit by maximum likelihood  ['lmerMod']\n",
       "Formula: day_14_weight ~ hatch_nest_CS + net_rearing_manipulation + (1 |  \n",
       "    rear_Box)\n",
       "   Data: ind_data\n",
       "\n",
       "     AIC      BIC   logLik deviance df.resid \n",
       "  8339.6   8370.1  -4164.8   8329.6     3258 \n",
       "\n",
       "Scaled residuals: \n",
       "    Min      1Q  Median      3Q     Max \n",
       "-5.0680 -0.5252  0.0552  0.6083  3.6941 \n",
       "\n",
       "Random effects:\n",
       " Groups   Name        Variance Std.Dev.\n",
       " rear_Box (Intercept) 0.6048   0.7777  \n",
       " Residual             0.5926   0.7698  \n",
       "Number of obs: 3263, groups:  rear_Box, 342\n",
       "\n",
       "Fixed effects:\n",
       "                         Estimate Std. Error t value\n",
       "(Intercept)              10.83167    0.12822  84.477\n",
       "hatch_nest_CS            -0.05045    0.01172  -4.303\n",
       "net_rearing_manipulation -0.15793    0.01149 -13.743\n",
       "\n",
       "Correlation of Fixed Effects:\n",
       "            (Intr) ht__CS\n",
       "htch_nst_CS -0.937       \n",
       "nt_rrng_mnp  0.039 -0.053"
      ]
     },
     "metadata": {},
     "output_type": "display_data"
    },
    {
     "name": "stdout",
     "output_type": "stream",
     "text": [
      "\n",
      "Marginal R2 (R2m) and Conditional (R2c)"
     ]
    },
    {
     "data": {
      "text/html": [
       "<table>\n",
       "<caption>A matrix: 1 × 2 of type dbl</caption>\n",
       "<thead>\n",
       "\t<tr><th scope=col>R2m</th><th scope=col>R2c</th></tr>\n",
       "</thead>\n",
       "<tbody>\n",
       "\t<tr><td>0.1433842</td><td>0.576026</td></tr>\n",
       "</tbody>\n",
       "</table>\n"
      ],
      "text/latex": [
       "A matrix: 1 × 2 of type dbl\n",
       "\\begin{tabular}{ll}\n",
       " R2m & R2c\\\\\n",
       "\\hline\n",
       "\t 0.1433842 & 0.576026\\\\\n",
       "\\end{tabular}\n"
      ],
      "text/markdown": [
       "\n",
       "A matrix: 1 × 2 of type dbl\n",
       "\n",
       "| R2m | R2c |\n",
       "|---|---|\n",
       "| 0.1433842 | 0.576026 |\n",
       "\n"
      ],
      "text/plain": [
       "     R2m       R2c     \n",
       "[1,] 0.1433842 0.576026"
      ]
     },
     "metadata": {},
     "output_type": "display_data"
    }
   ],
   "source": [
    "# Growth model - without co-variables\n",
    "model_id_growth= lmer (day_14_weight~hatch_nest_CS+\n",
    "                    net_rearing_manipulation+ \n",
    "                    (1|rear_Box),\n",
    "                    data=ind_data,REML=FALSE)\n",
    "(Summary_MIG = summary(model_id_growth))\n",
    "cat (\"\\nMarginal R2 (R2m) and Conditional (R2c)\")\n",
    "r.squaredGLMM(model_id_growth)\n",
    "#calculate p values for the exploratory variables\n",
    "model_id_growth0_1= update(model_id_growth,. ~ . -net_rearing_manipulation) \n",
    "model_id_growth0_2= update(model_id_growth,. ~ . -hatch_nest_CS) \n",
    "sig1=anova(model_id_growth,model_id_growth0_1)[2,8]\n",
    "sig2=anova(model_id_growth,model_id_growth0_2)[2,8]"
   ]
  },
  {
   "cell_type": "code",
   "execution_count": 40,
   "metadata": {},
   "outputs": [
    {
     "name": "stderr",
     "output_type": "stream",
     "text": [
      "\n",
      "Correlation matrix not shown by default, as p = 13 > 12.\n",
      "Use print(obj, correlation=TRUE)  or\n",
      "    vcov(obj)        if you need it\n",
      "\n",
      "\n"
     ]
    },
    {
     "data": {
      "text/plain": [
       "Linear mixed model fit by maximum likelihood  ['lmerMod']\n",
       "Formula: \n",
       "day_14_weight ~ hatch_nest_CS + net_rearing_manipulation + rear_area +  \n",
       "    rear_nest_LD + home_or_away + (1 | rear_Box)\n",
       "   Data: ind_data\n",
       "\n",
       "     AIC      BIC   logLik deviance df.resid \n",
       "  8313.8   8405.2  -4141.9   8283.8     3248 \n",
       "\n",
       "Scaled residuals: \n",
       "    Min      1Q  Median      3Q     Max \n",
       "-4.9983 -0.5126  0.0468  0.6041  3.7511 \n",
       "\n",
       "Random effects:\n",
       " Groups   Name        Variance Std.Dev.\n",
       " rear_Box (Intercept) 0.5664   0.7526  \n",
       " Residual             0.5875   0.7665  \n",
       "Number of obs: 3263, groups:  rear_Box, 342\n",
       "\n",
       "Fixed effects:\n",
       "                          Estimate Std. Error t value\n",
       "(Intercept)              10.667423   0.182645  58.405\n",
       "hatch_nest_CS            -0.058982   0.012601  -4.681\n",
       "net_rearing_manipulation -0.157605   0.011346 -13.891\n",
       "rear_areaC                0.140802   0.152996   0.920\n",
       "rear_areaCP               0.390965   0.185559   2.107\n",
       "rear_areaE                0.493751   0.191825   2.574\n",
       "rear_areaMP               0.144947   0.161711   0.896\n",
       "rear_areaO                0.383622   0.142950   2.684\n",
       "rear_areaP                0.163909   0.282438   0.580\n",
       "rear_areaSW               0.120458   0.158940   0.758\n",
       "rear_areaW                0.668839   0.169172   3.954\n",
       "rear_nest_LD             -0.002730   0.003354  -0.814\n",
       "home_or_away2             0.143234   0.029355   4.879"
      ]
     },
     "metadata": {},
     "output_type": "display_data"
    },
    {
     "name": "stdout",
     "output_type": "stream",
     "text": [
      "\n",
      "Marginal R2 (R2m) and Conditional (R2c)"
     ]
    },
    {
     "data": {
      "text/html": [
       "<table>\n",
       "<caption>A matrix: 1 × 2 of type dbl</caption>\n",
       "<thead>\n",
       "\t<tr><th scope=col>R2m</th><th scope=col>R2c</th></tr>\n",
       "</thead>\n",
       "<tbody>\n",
       "\t<tr><td>0.1694625</td><td>0.5771376</td></tr>\n",
       "</tbody>\n",
       "</table>\n"
      ],
      "text/latex": [
       "A matrix: 1 × 2 of type dbl\n",
       "\\begin{tabular}{ll}\n",
       " R2m & R2c\\\\\n",
       "\\hline\n",
       "\t 0.1694625 & 0.5771376\\\\\n",
       "\\end{tabular}\n"
      ],
      "text/markdown": [
       "\n",
       "A matrix: 1 × 2 of type dbl\n",
       "\n",
       "| R2m | R2c |\n",
       "|---|---|\n",
       "| 0.1694625 | 0.5771376 |\n",
       "\n"
      ],
      "text/plain": [
       "     R2m       R2c      \n",
       "[1,] 0.1694625 0.5771376"
      ]
     },
     "metadata": {},
     "output_type": "display_data"
    }
   ],
   "source": [
    "# Growth model - with co-variables\n",
    "model_id_growth_cov= lmer (day_14_weight~hatch_nest_CS+\n",
    "                    net_rearing_manipulation+\n",
    "                    rear_area+rear_nest_LD+home_or_away+\n",
    "                    (1|rear_Box),\n",
    "                    data=ind_data,REML=FALSE)\n",
    "(Summary_MIG_cov = summary(model_id_growth_cov))\n",
    "cat (\"\\nMarginal R2 (R2m) and Conditional (R2c)\")\n",
    "r.squaredGLMM(model_id_growth_cov)\n",
    "\n",
    "#calculate p values for the exploratory variables\n",
    "model_id_growth0_1_cov= update(model_id_growth_cov,. ~ . -net_rearing_manipulation) \n",
    "model_id_growth0_2_cov= update(model_id_growth_cov,. ~ . -hatch_nest_CS) \n",
    "sig1_cov=anova(model_id_growth_cov,model_id_growth0_1_cov)[2,8]\n",
    "sig2_cov=anova(model_id_growth_cov,model_id_growth0_2_cov)[2,8]"
   ]
  },
  {
   "cell_type": "code",
   "execution_count": 41,
   "metadata": {},
   "outputs": [
    {
     "data": {
      "text/plain": [
       "Generalized linear mixed model fit by maximum likelihood (Laplace\n",
       "  Approximation) [glmerMod]\n",
       " Family: binomial  ( logit )\n",
       "Formula: \n",
       "chick_survival_to_first_breed_season ~ hatch_nest_CS + net_rearing_manipulation +  \n",
       "    (1 | rear_Box)\n",
       "   Data: ind_data\n",
       "\n",
       "     AIC      BIC   logLik deviance df.resid \n",
       "  1241.4   1265.7   -616.7   1233.4     3259 \n",
       "\n",
       "Scaled residuals: \n",
       "    Min      1Q  Median      3Q     Max \n",
       "-0.4387 -0.2266 -0.1882 -0.1574  5.8192 \n",
       "\n",
       "Random effects:\n",
       " Groups   Name        Variance Std.Dev.\n",
       " rear_Box (Intercept) 0.5252   0.7247  \n",
       "Number of obs: 3263, groups:  rear_Box, 342\n",
       "\n",
       "Fixed effects:\n",
       "                         Estimate Std. Error z value Pr(>|z|)    \n",
       "(Intercept)              -4.13137    0.51510  -8.021 1.05e-15 ***\n",
       "hatch_nest_CS             0.08662    0.04541   1.908 0.056434 .  \n",
       "net_rearing_manipulation -0.10938    0.03296  -3.318 0.000905 ***\n",
       "---\n",
       "Signif. codes:  0 '***' 0.001 '**' 0.01 '*' 0.05 '.' 0.1 ' ' 1\n",
       "\n",
       "Correlation of Fixed Effects:\n",
       "            (Intr) ht__CS\n",
       "htch_nst_CS -0.964       \n",
       "nt_rrng_mnp -0.010  0.023"
      ]
     },
     "metadata": {},
     "output_type": "display_data"
    },
    {
     "name": "stdout",
     "output_type": "stream",
     "text": [
      "\n",
      "Marginal R2 (R2m) and Conditional (R2c)"
     ]
    },
    {
     "name": "stderr",
     "output_type": "stream",
     "text": [
      "Warning message:\n",
      "\"The null model is correct only if all variables used by the original model remain unchanged.\"\n"
     ]
    },
    {
     "data": {
      "text/html": [
       "<table>\n",
       "<caption>A matrix: 2 × 2 of type dbl</caption>\n",
       "<thead>\n",
       "\t<tr><th></th><th scope=col>R2m</th><th scope=col>R2c</th></tr>\n",
       "</thead>\n",
       "<tbody>\n",
       "\t<tr><th scope=row>theoretical</th><td>0.030093523</td><td>0.16361176</td></tr>\n",
       "\t<tr><th scope=row>delta</th><td>0.005253512</td><td>0.02856217</td></tr>\n",
       "</tbody>\n",
       "</table>\n"
      ],
      "text/latex": [
       "A matrix: 2 × 2 of type dbl\n",
       "\\begin{tabular}{r|ll}\n",
       "  & R2m & R2c\\\\\n",
       "\\hline\n",
       "\ttheoretical & 0.030093523 & 0.16361176\\\\\n",
       "\tdelta & 0.005253512 & 0.02856217\\\\\n",
       "\\end{tabular}\n"
      ],
      "text/markdown": [
       "\n",
       "A matrix: 2 × 2 of type dbl\n",
       "\n",
       "| <!--/--> | R2m | R2c |\n",
       "|---|---|---|\n",
       "| theoretical | 0.030093523 | 0.16361176 |\n",
       "| delta | 0.005253512 | 0.02856217 |\n",
       "\n"
      ],
      "text/plain": [
       "            R2m         R2c       \n",
       "theoretical 0.030093523 0.16361176\n",
       "delta       0.005253512 0.02856217"
      ]
     },
     "metadata": {},
     "output_type": "display_data"
    }
   ],
   "source": [
    "#Survival model - without co-variables\n",
    "model_id_surv=glmer (chick_survival_to_first_breed_season~hatch_nest_CS+\n",
    "                     net_rearing_manipulation+ \n",
    "                     (1|rear_Box),\n",
    "                     data=ind_data, family=\"binomial\")\n",
    "(Summary_MIDsurv=summary(model_id_surv))\n",
    "cat (\"\\nMarginal R2 (R2m) and Conditional (R2c)\")\n",
    "r.squaredGLMM(model_id_surv)"
   ]
  },
  {
   "cell_type": "code",
   "execution_count": 43,
   "metadata": {},
   "outputs": [
    {
     "name": "stderr",
     "output_type": "stream",
     "text": [
      "\n",
      "Correlation matrix not shown by default, as p = 13 > 12.\n",
      "Use print(obj, correlation=TRUE)  or\n",
      "    vcov(obj)        if you need it\n",
      "\n",
      "\n"
     ]
    },
    {
     "data": {
      "text/plain": [
       "Generalized linear mixed model fit by maximum likelihood (Adaptive\n",
       "  Gauss-Hermite Quadrature, nAGQ = 20) [glmerMod]\n",
       " Family: binomial  ( logit )\n",
       "Formula: \n",
       "chick_survival_to_first_breed_season ~ hatch_nest_CS + net_rearing_manipulation +  \n",
       "    rear_area + rear_nest_LD + home_or_away + (1 | rear_Box)\n",
       "   Data: ind_data\n",
       "Control: glmerControl(optimizer = \"bobyqa\")\n",
       "\n",
       "     AIC      BIC   logLik deviance df.resid \n",
       "  1211.2   1296.4   -591.6   1183.2     3249 \n",
       "\n",
       "Scaled residuals: \n",
       "    Min      1Q  Median      3Q     Max \n",
       "-0.5470 -0.2458 -0.1818 -0.1401  8.9137 \n",
       "\n",
       "Random effects:\n",
       " Groups   Name        Variance Std.Dev.\n",
       " rear_Box (Intercept) 0.1742   0.4173  \n",
       "Number of obs: 3263, groups:  rear_Box, 342\n",
       "\n",
       "Fixed effects:\n",
       "                         Estimate Std. Error z value Pr(>|z|)    \n",
       "(Intercept)              -1.23233    0.66001  -1.867 0.061881 .  \n",
       "hatch_nest_CS            -0.04939    0.04962  -0.995 0.319511    \n",
       "net_rearing_manipulation -0.10991    0.02986  -3.681 0.000233 ***\n",
       "rear_areaC               -0.59337    0.31504  -1.883 0.059633 .  \n",
       "rear_areaCP              -0.77769    0.55582  -1.399 0.161754    \n",
       "rear_areaE                0.27836    0.37925   0.734 0.462953    \n",
       "rear_areaMP              -0.42022    0.36311  -1.157 0.247156    \n",
       "rear_areaO               -0.17929    0.28696  -0.625 0.532114    \n",
       "rear_areaP                0.15384    0.53878   0.286 0.775239    \n",
       "rear_areaSW               0.24350    0.30129   0.808 0.418984    \n",
       "rear_areaW                0.06090    0.32353   0.188 0.850682    \n",
       "rear_nest_LD             -0.08015    0.01331  -6.023 1.71e-09 ***\n",
       "home_or_away2             0.13212    0.16940   0.780 0.435435    \n",
       "---\n",
       "Signif. codes:  0 '***' 0.001 '**' 0.01 '*' 0.05 '.' 0.1 ' ' 1"
      ]
     },
     "metadata": {},
     "output_type": "display_data"
    },
    {
     "name": "stdout",
     "output_type": "stream",
     "text": [
      "\n",
      "Marginal R2 (R2m) and Conditional (R2c)"
     ]
    },
    {
     "name": "stderr",
     "output_type": "stream",
     "text": [
      "Warning message:\n",
      "\"The null model is correct only if all variables used by the original model remain unchanged.\"\n"
     ]
    },
    {
     "data": {
      "text/html": [
       "<table>\n",
       "<caption>A matrix: 2 × 2 of type dbl</caption>\n",
       "<thead>\n",
       "\t<tr><th></th><th scope=col>R2m</th><th scope=col>R2c</th></tr>\n",
       "</thead>\n",
       "<tbody>\n",
       "\t<tr><th scope=row>theoretical</th><td>0.13924389</td><td>0.18252025</td></tr>\n",
       "\t<tr><th scope=row>delta</th><td>0.02474915</td><td>0.03244107</td></tr>\n",
       "</tbody>\n",
       "</table>\n"
      ],
      "text/latex": [
       "A matrix: 2 × 2 of type dbl\n",
       "\\begin{tabular}{r|ll}\n",
       "  & R2m & R2c\\\\\n",
       "\\hline\n",
       "\ttheoretical & 0.13924389 & 0.18252025\\\\\n",
       "\tdelta & 0.02474915 & 0.03244107\\\\\n",
       "\\end{tabular}\n"
      ],
      "text/markdown": [
       "\n",
       "A matrix: 2 × 2 of type dbl\n",
       "\n",
       "| <!--/--> | R2m | R2c |\n",
       "|---|---|---|\n",
       "| theoretical | 0.13924389 | 0.18252025 |\n",
       "| delta | 0.02474915 | 0.03244107 |\n",
       "\n"
      ],
      "text/plain": [
       "            R2m        R2c       \n",
       "theoretical 0.13924389 0.18252025\n",
       "delta       0.02474915 0.03244107"
      ]
     },
     "metadata": {},
     "output_type": "display_data"
    }
   ],
   "source": [
    "#Survival model - with co-variables\n",
    "model_id_surv_cov=glmer (chick_survival_to_first_breed_season~hatch_nest_CS+\n",
    "                     net_rearing_manipulation+\n",
    "                     rear_area+rear_nest_LD+home_or_away+\n",
    "                     (1|rear_Box),\n",
    "                     data=ind_data, family=\"binomial\",nAGQ=20,\n",
    "                        glmerControl(optimizer = \"bobyqa\"))\n",
    "#bobyqa optimizer was used to overcome some convergence issues\n",
    "(Summary_MIDsurv_cov=summary(model_id_surv_cov))\n",
    "cat (\"\\nMarginal R2 (R2m) and Conditional (R2c)\")\n",
    "r.squaredGLMM(model_id_surv_cov)"
   ]
  },
  {
   "cell_type": "markdown",
   "metadata": {},
   "source": [
    "Now, let's take a look of the predictions of our models"
   ]
  },
  {
   "cell_type": "code",
   "execution_count": 44,
   "metadata": {},
   "outputs": [
    {
     "name": "stderr",
     "output_type": "stream",
     "text": [
      "Scale for 'y' is already present. Adding another scale for 'y', which will\n",
      "replace the existing scale.\n",
      "\n",
      "Scale for 'y' is already present. Adding another scale for 'y', which will\n",
      "replace the existing scale.\n",
      "\n",
      "Scale for 'y' is already present. Adding another scale for 'y', which will\n",
      "replace the existing scale.\n",
      "\n",
      "Scale for 'y' is already present. Adding another scale for 'y', which will\n",
      "replace the existing scale.\n",
      "\n"
     ]
    },
    {
     "data": {
      "image/png": "[encoded data removed]",
      "text/plain": [
       "plot without title"
      ]
     },
     "metadata": {
      "image/png": {
       "height": 1080,
       "width": 660
      }
     },
     "output_type": "display_data"
    }
   ],
   "source": [
    "options(repr.plot.width=11, repr.plot.height=18)\n",
    "\n",
    "theme_set (theme_bw())\n",
    "P1= plot_model (model_id_growth,type=\"eff\",show.data=TRUE)$hatch_nest_CS\n",
    "P1= P1+theme(panel.grid.major = element_blank(),panel.grid.minor = element_blank(),\n",
    "            axis.text=element_text(size=12),axis.title=element_text(size=14))+\n",
    "    labs(y=\"Chick's mass (g) at day 14\",x=\"Clutch size from which the chick hatched\")+ \n",
    "    ggtitle(paste(\"Model without co-variables,\",\n",
    "                  \"Slope =\", round(Summary_MIG$coefficients[2,1],3),\n",
    "                  \", p-value\", ifelse(sig1<0.001,\n",
    "                                      \"< 0.001\",paste(\"=\",round(sig1,3)))\n",
    "                 ))\n",
    "\n",
    "P2= plot_model (model_id_growth_cov,type=\"eff\",show.data=TRUE)$hatch_nest_CS\n",
    "P2= P2+theme(panel.grid.major = element_blank(),panel.grid.minor = element_blank(),\n",
    "            axis.text=element_text(size=12),axis.title=element_text(size=14))+\n",
    "    labs(y=\"Chick's mass (g) at day 14\",x=\"Clutch size from which the chick hatched\")+ \n",
    "    ggtitle(paste(\"Model with co-variables,\",\n",
    "                  \"Slope =\", round(Summary_MIG_cov$coefficients[2,1],3),\n",
    "                  \", p-value\", ifelse(sig1_cov<0.001,\n",
    "                                      \"< 0.001\",paste(\"=\",round(sig1_cov,3)))\n",
    "                 ))\n",
    "\n",
    "P3= plot_model (model_id_growth,type=\"eff\",show.data=TRUE)$net_rearing_manipulation\n",
    "P3= P3+theme(panel.grid.major = element_blank(),panel.grid.minor = element_blank(),\n",
    "            axis.text=element_text(size=12),axis.title=element_text(size=14))+\n",
    "    labs(y=\"Chick's mass (g) at day 14\",x=\"Net rearing manipulation\")+ \n",
    "    ggtitle(paste(\"Model without co-variables,\",\n",
    "                  \"Slope =\", round(Summary_MIG$coefficients[3,1],3),\n",
    "                  \", p-value\", ifelse(sig2<0.001,\n",
    "                                      \"< 0.001\",paste(\"=\",round(sig2,3)))\n",
    "                 ))\n",
    "\n",
    "P4= plot_model (model_id_growth_cov,type=\"eff\",show.data=TRUE)$net_rearing_manipulation\n",
    "P4= P4+theme(panel.grid.major = element_blank(),panel.grid.minor = element_blank(),\n",
    "            axis.text=element_text(size=12),axis.title=element_text(size=14))+\n",
    "    labs(y=\"Chick's mass (g) at day 14\",x=\"Net rearing manipulation\")+ \n",
    "    ggtitle(paste(\"Model with co-variables,\",\n",
    "                  \"Slope =\", round(Summary_MIG_cov$coefficients[3,1],3),\n",
    "                  \", p-value\", ifelse(sig2_cov<0.001,\n",
    "                                      \"< 0.001\",paste(\"=\",round(sig2_cov,3)))\n",
    "                 ))\n",
    "\n",
    "P5= plot_model (model_id_surv,type=\"eff\")$hatch_nest_CS\n",
    "P5= P5+theme(panel.grid.major = element_blank(),panel.grid.minor = element_blank(),\n",
    "            axis.text=element_text(size=12),axis.title=element_text(size=14))+\n",
    "    labs(y=\"Prob(Chick's survival)\",x=\"Clutch size from which the chick hatched\")+\n",
    "    ylim(0, 0.15)+geom_rug(sides='tb')+\n",
    "    ggtitle(paste(\"Model without co-variables,\",\n",
    "                  \"Slope =\", round(Summary_MIDsurv$coefficients[2,1],3),\n",
    "                  \", p-value\", ifelse(Summary_MIDsurv$coefficients[2,4]<0.001,\n",
    "                                      \"< 0.001\",paste(\"=\",round(Summary_MIDsurv$\n",
    "                                                                coefficients[2,4],3)))\n",
    "                 ))\n",
    "\n",
    "P6= plot_model (model_id_surv_cov,type=\"eff\")$hatch_nest_CS\n",
    "P6= P6+theme(panel.grid.major = element_blank(),panel.grid.minor = element_blank(),\n",
    "            axis.text=element_text(size=12),axis.title=element_text(size=14))+\n",
    "    labs(y=\"Prob(Chick's survival)\",x=\"Clutch size from which the chick hatched\")+\n",
    "    ylim(0, 0.15)+geom_rug(sides='tb')+\n",
    "    ggtitle(paste(\"Model with co-variables,\",\n",
    "                  \"Slope =\", round(Summary_MIDsurv_cov$coefficients[2,1],3),\n",
    "                  \", p-value\", ifelse(Summary_MIDsurv_cov$coefficients[2,4]<0.001,\n",
    "                                      \"< 0.001\",paste(\"=\",round(Summary_MIDsurv_cov$\n",
    "                                                                coefficients[2,4],3)))\n",
    "                 ))\n",
    "\n",
    "P7= plot_model (model_id_surv,type=\"eff\")$net_rearing_manipulation\n",
    "P7= P7+theme(panel.grid.major = element_blank(),panel.grid.minor = element_blank(),\n",
    "            axis.text=element_text(size=12),axis.title=element_text(size=14))+\n",
    "    labs(y=\"Prob(Chick's survival)\",x=\"Net rearing manipulation\")+\n",
    "    ylim(0, 0.15)+geom_rug(sides='tb')+\n",
    "    ggtitle(paste(\"Model without co-variables,\",\n",
    "                  \"Slope =\", round(Summary_MIDsurv$coefficients[3,1],3),\n",
    "                  \", p-value\", ifelse(Summary_MIDsurv$coefficients[3,4]<0.001,\n",
    "                                      \"< 0.001\",paste(\"=\",round(Summary_MIDsurv$\n",
    "                                                                coefficients[3,4],3)))\n",
    "                 ))\n",
    "\n",
    "P8= plot_model (model_id_surv_cov,type=\"eff\")$net_rearing_manipulation\n",
    "P8= P8+theme(panel.grid.major = element_blank(),panel.grid.minor = element_blank(),\n",
    "            axis.text=element_text(size=12),axis.title=element_text(size=14))+\n",
    "    labs(y=\"Prob(Chick's survival)\",x=\"Net rearing manipulation\")+\n",
    "    ylim(0, 0.15)+geom_rug(sides='tb')+\n",
    "    ggtitle(paste(\"Model with co-variables,\",\n",
    "                  \"Slope =\", round(Summary_MIDsurv_cov$coefficients[3,1],3),\n",
    "                  \", p-value\", ifelse(Summary_MIDsurv_cov$coefficients[3,4]<0.001,\n",
    "                                      \"< 0.001\",paste(\"=\",round(Summary_MIDsurv_cov$\n",
    "                                                                coefficients[3,4],3)))\n",
    "                 ))\n",
    "\n",
    "plot_grid (P1,P2,P3,P4,P5,P6,P7,P8,nrow=4,ncol=2)"
   ]
  },
  {
   "cell_type": "markdown",
   "metadata": {},
   "source": [
    "These results indicate that chicks’ mass (a proxy for growth) is negatively associated with clutch size and also with the net hearing manipulation (i.e. adding more chicks in the nests leads to lower chicks’ mass). These results were consistent either in the presence or not of influential co-variables. Net rearing manipulation was also negatively associated with chicks' survival, indicating that higher numbers of chicks in the nests lead to lower levels of survivorship. On the other hand, clutch size had a positive marginally significant relationship with chick's survivorship when models without co-variables were used. This result switch to a negative non-significant relationship when models with co-variables were used. What happened? Well, the answer is probably related to the inclusion of the co-variable \"hatch_nest_LD\", which describes the date of the first egg was laid ('lay date') in the clutch from which the chick hatched (April 1 = 1). Let's take a look at the relationship between these two variables below. "
   ]
  },
  {
   "cell_type": "code",
   "execution_count": 45,
   "metadata": {},
   "outputs": [
    {
     "name": "stderr",
     "output_type": "stream",
     "text": [
      "Scale for 'y' is already present. Adding another scale for 'y', which will\n",
      "replace the existing scale.\n",
      "\n"
     ]
    },
    {
     "data": {
      "image/png": "[encoded data removed]",
      "text/plain": [
       "plot without title"
      ]
     },
     "metadata": {
      "image/png": {
       "height": 300,
       "width": 660
      }
     },
     "output_type": "display_data"
    }
   ],
   "source": [
    "options(repr.plot.width=11, repr.plot.height=5)\n",
    "cor_test5=cor.test (ind_data$hatch_nest_CS,ind_data$rear_nest_LD)\n",
    "\n",
    "P9= ggplot (ind_data,aes(y=hatch_nest_CS,x=rear_nest_LD))+\n",
    "    geom_point()+\n",
    "    theme(panel.grid.major = element_blank(),panel.grid.minor = element_blank(),\n",
    "            axis.text=element_text(size=12),axis.title=element_text(size=14))+\n",
    "    labs(y=\"Clutch size from which the chick hatched\",x=\"Lay date (April1 =1)\")+\n",
    "    ggtitle(paste(\"Cor=\", round(cor_test5$estimate,2),\n",
    "                  \", p-value\", ifelse(cor_test5$p.value<0.001,\n",
    "                                     \"< 0.001\",round(cor_test5$p.value,3))))\n",
    "    \n",
    "P10= plot_model (model_id_surv_cov,type=\"eff\")$rear_nest_LD\n",
    "P10= P10+theme(panel.grid.major = element_blank(),panel.grid.minor = element_blank(),\n",
    "            axis.text=element_text(size=12),axis.title=element_text(size=14))+\n",
    "    labs(y=\"Prob(Chick's survivorship)\",x=\"Lay date (April 1= 1)\")+\n",
    "     ylim(0, 0.20)+geom_rug(sides='tb')+\n",
    "    ggtitle(paste(\"Model with co-variables,\",\n",
    "                  \"Slope =\", round(Summary_MIDsurv_cov$coefficients[3,1],3),\n",
    "                  \", p-value\", ifelse(Summary_MIDsurv_cov$coefficients[3,4]<0.001,\n",
    "                                      \"< 0.001\",paste(\"=\",round(Summary_MIDsurv_cov$\n",
    "                                                                coefficients[3,4],3)))\n",
    "                 ))\n",
    "\n",
    "plot_grid(P9,P10,nrow=1,ncol=2)"
   ]
  },
  {
   "cell_type": "markdown",
   "metadata": {},
   "source": [
    "The figures above show that clutch size is responding to a seasonal (environmental) gradient. Clutch sizes are larger during the Spring than during the Summer. Interestingly, chicks survivorship is also higher during Spring. In this sense, birds are probably nesting during the most favorable period of the year. After controlling for this seasonal gradient, clutch size returns to its expected negative relationship with survivorship, however, this relationship seems weak and non-significant.  "
   ]
  }
 ],
 "metadata": {
  "kernelspec": {
   "display_name": "R",
   "language": "R",
   "name": "ir"
  },
  "language_info": {
   "codemirror_mode": "r",
   "file_extension": ".r",
   "mimetype": "text/x-r-source",
   "name": "R",
   "pygments_lexer": "r",
   "version": "3.6.1"
  }
 },
 "nbformat": 4,
 "nbformat_minor": 4
}
